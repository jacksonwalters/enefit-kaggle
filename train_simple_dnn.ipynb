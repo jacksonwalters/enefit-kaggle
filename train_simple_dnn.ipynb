{
 "cells": [
  {
   "cell_type": "code",
   "execution_count": 2,
   "id": "845a89c6",
   "metadata": {},
   "outputs": [
    {
     "name": "stdout",
     "output_type": "stream",
     "text": [
      "2.8.0\n"
     ]
    }
   ],
   "source": [
    "import os\n",
    "os.chdir(\"/Users/jacksonwalters/Documents/GitHub/enefit-kaggle/predict-energy-behavior-of-prosumers/\")\n",
    "\n",
    "import IPython\n",
    "import IPython.display\n",
    "import matplotlib.pyplot as plt\n",
    "import pandas as pd\n",
    "import numpy as np\n",
    "from load_data import merged_df\n",
    "\n",
    "import tensorflow as tf\n",
    "from tensorflow import keras\n",
    "from tensorflow.keras import layers\n",
    "print(tf.__version__)"
   ]
  },
  {
   "cell_type": "code",
   "execution_count": 136,
   "id": "c85605ae",
   "metadata": {},
   "outputs": [
    {
     "name": "stdout",
     "output_type": "stream",
     "text": [
      "loading train data...\n",
      "loading gas_prices...\n",
      "loading electricity_prices...\n",
      "loading forecast_weather...\n",
      "merging train and gas_prices...\n",
      "merging electricity_prices...\n",
      "merging forecast_weather...\n"
     ]
    }
   ],
   "source": [
    "#load the dataset, slice a smaller amount for now\n",
    "REDUCED_DATESET_SIZE = 1_000_000\n",
    "df = merged_df()\n",
    "df = df[:REDUCED_DATESET_SIZE]"
   ]
  },
  {
   "cell_type": "code",
   "execution_count": 137,
   "id": "302ead24",
   "metadata": {},
   "outputs": [],
   "source": [
    "#test/train split\n",
    "train_dataset = df.sample(frac=0.8, random_state=0)\n",
    "test_dataset = df.drop(train_dataset.index)\n",
    "\n",
    "#drop the target column \n",
    "train_labels = train_dataset['target']\n",
    "test_labels = test_dataset['target']\n",
    "\n",
    "train_features = train_dataset.drop(columns=['target'])\n",
    "test_features = test_dataset.drop(columns=['target'])\n",
    "\n",
    "num_features = len(test_features.columns.values)"
   ]
  },
  {
   "cell_type": "code",
   "execution_count": 138,
   "id": "4e72c564",
   "metadata": {},
   "outputs": [],
   "source": [
    "#write feature_names to .csv file\n",
    "import csv\n",
    "feature_names = list(test_features.columns.values)\n",
    "with open(\"../models/dnn_feature_names.csv\", 'w') as f:\n",
    "    write = csv.writer(f)\n",
    "    write.writerow(feature_names)"
   ]
  },
  {
   "cell_type": "code",
   "execution_count": 139,
   "id": "ef1b6f9a",
   "metadata": {},
   "outputs": [
    {
     "name": "stderr",
     "output_type": "stream",
     "text": [
      "2023-12-16 17:40:59.316514: I tensorflow/core/grappler/optimizers/custom_graph_optimizer_registry.cc:113] Plugin optimizer for device_type GPU is enabled.\n",
      "2023-12-16 17:40:59.331519: I tensorflow/core/grappler/optimizers/custom_graph_optimizer_registry.cc:113] Plugin optimizer for device_type GPU is enabled.\n"
     ]
    }
   ],
   "source": [
    "#create a normalization layer\n",
    "normalizer = tf.keras.layers.Normalization(input_dim=num_features)\n",
    "\n",
    "#normalize the train_features by subtracting the mean and dividing by the std deviation\n",
    "normalizer.adapt(np.array(train_features))"
   ]
  },
  {
   "cell_type": "code",
   "execution_count": 140,
   "id": "ed2be4a6",
   "metadata": {},
   "outputs": [
    {
     "name": "stdout",
     "output_type": "stream",
     "text": [
      "Model: \"sequential_4\"\n",
      "_________________________________________________________________\n",
      " Layer (type)                Output Shape              Param #   \n",
      "=================================================================\n",
      " normalization_9 (Normalizat  (None, 23)               47        \n",
      " ion)                                                            \n",
      "                                                                 \n",
      " dense_12 (Dense)            (None, 64)                1536      \n",
      "                                                                 \n",
      " dense_13 (Dense)            (None, 64)                4160      \n",
      "                                                                 \n",
      " dense_14 (Dense)            (None, 1)                 65        \n",
      "                                                                 \n",
      "=================================================================\n",
      "Total params: 5,808\n",
      "Trainable params: 5,761\n",
      "Non-trainable params: 47\n",
      "_________________________________________________________________\n",
      "Epoch 1/2\n",
      "   12/20000 [..............................] - ETA: 1:34 - loss: 200.7637  "
     ]
    },
    {
     "name": "stderr",
     "output_type": "stream",
     "text": [
      "2023-12-16 17:41:56.002856: I tensorflow/core/grappler/optimizers/custom_graph_optimizer_registry.cc:113] Plugin optimizer for device_type GPU is enabled.\n"
     ]
    },
    {
     "name": "stdout",
     "output_type": "stream",
     "text": [
      "19999/20000 [============================>.] - ETA: 0s - loss: 121.1733"
     ]
    },
    {
     "name": "stderr",
     "output_type": "stream",
     "text": [
      "2023-12-16 17:43:22.202792: I tensorflow/core/grappler/optimizers/custom_graph_optimizer_registry.cc:113] Plugin optimizer for device_type GPU is enabled.\n"
     ]
    },
    {
     "name": "stdout",
     "output_type": "stream",
     "text": [
      "20000/20000 [==============================] - 99s 5ms/step - loss: 121.1677 - val_loss: 110.6825\n",
      "Epoch 2/2\n",
      "20000/20000 [==============================] - 97s 5ms/step - loss: 97.4114 - val_loss: 86.6467\n"
     ]
    }
   ],
   "source": [
    "#build the three layer model with initial normalization layer\n",
    "def build_and_compile_model(norm):\n",
    "  model = keras.Sequential([\n",
    "      norm,\n",
    "      layers.Dense(64, activation='relu'),\n",
    "      layers.Dense(64, activation='relu'),\n",
    "      layers.Dense(1)\n",
    "  ])\n",
    "\n",
    "  model.compile(loss='mean_absolute_error',\n",
    "                optimizer=tf.keras.optimizers.Adam(0.001))\n",
    "  return model\n",
    "\n",
    "dnn_model = build_and_compile_model(normalizer)\n",
    "dnn_model.summary()\n",
    "\n",
    "#fit the model\n",
    "history = dnn_model.fit(\n",
    "    train_features,\n",
    "    train_labels,\n",
    "    validation_split=0.2,\n",
    "    verbose=1, epochs=2)"
   ]
  },
  {
   "cell_type": "code",
   "execution_count": 141,
   "id": "77be4997",
   "metadata": {},
   "outputs": [
    {
     "name": "stdout",
     "output_type": "stream",
     "text": [
      "INFO:tensorflow:Assets written to: ram://3a7ffb65-0a04-4326-a011-edc98089045d/assets\n"
     ]
    }
   ],
   "source": [
    "# save the model to disk\n",
    "import pickle\n",
    "dnn_model_filename = '../models/dnn_model.sav'\n",
    "pickle.dump(dnn_model, open(dnn_model_filename, 'wb'))"
   ]
  },
  {
   "cell_type": "code",
   "execution_count": 142,
   "id": "8485b1f7",
   "metadata": {},
   "outputs": [],
   "source": [
    "#save model using keras\n",
    "dnn_model.save('../models/dnn_model.keras')"
   ]
  },
  {
   "cell_type": "code",
   "execution_count": null,
   "id": "c61fa1f4",
   "metadata": {},
   "outputs": [],
   "source": []
  }
 ],
 "metadata": {
  "kernelspec": {
   "display_name": "Python 3 (ipykernel)",
   "language": "python",
   "name": "python3"
  },
  "language_info": {
   "codemirror_mode": {
    "name": "ipython",
    "version": 3
   },
   "file_extension": ".py",
   "mimetype": "text/x-python",
   "name": "python",
   "nbconvert_exporter": "python",
   "pygments_lexer": "ipython3",
   "version": "3.8.12"
  }
 },
 "nbformat": 4,
 "nbformat_minor": 5
}
