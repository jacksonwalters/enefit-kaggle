{
 "cells": [
  {
   "cell_type": "code",
   "execution_count": 19,
   "id": "8e3172cd",
   "metadata": {},
   "outputs": [],
   "source": [
    "import os\n",
    "import numpy as np\n",
    "import pandas as pd\n",
    "import tensorflow as tf\n",
    "import matplotlib.pyplot as plt\n",
    "from load_data import merged_df\n",
    "from window_generator_cnn_predict import WindowGenerator"
   ]
  },
  {
   "cell_type": "code",
   "execution_count": 2,
   "id": "eb8fa3e4",
   "metadata": {},
   "outputs": [],
   "source": [
    "os.chdir(\"/Users/jacksonwalters/Documents/GitHub/enefit-kaggle/predict-energy-behavior-of-prosumers/\")"
   ]
  },
  {
   "cell_type": "code",
   "execution_count": 3,
   "id": "d8152b91",
   "metadata": {},
   "outputs": [
    {
     "name": "stderr",
     "output_type": "stream",
     "text": [
      "2023-12-18 16:02:26.291771: I metal_plugin/src/device/metal_device.cc:1154] Metal device set to: Apple M1\n",
      "2023-12-18 16:02:26.291794: I metal_plugin/src/device/metal_device.cc:296] systemMemory: 8.00 GB\n",
      "2023-12-18 16:02:26.291803: I metal_plugin/src/device/metal_device.cc:313] maxCacheSize: 2.67 GB\n",
      "2023-12-18 16:02:26.291841: I tensorflow/core/common_runtime/pluggable_device/pluggable_device_factory.cc:306] Could not identify NUMA node of platform GPU ID 0, defaulting to 0. Your kernel may not have been built with NUMA support.\n",
      "2023-12-18 16:02:26.291860: I tensorflow/core/common_runtime/pluggable_device/pluggable_device_factory.cc:272] Created TensorFlow device (/job:localhost/replica:0/task:0/device:GPU:0 with 0 MB memory) -> physical PluggableDevice (device: 0, name: METAL, pci bus id: <undefined>)\n"
     ]
    }
   ],
   "source": [
    "#load the model using the legacy .h5 save method\n",
    "cnn_model = tf.keras.models.load_model('../models/cnn_model.keras')"
   ]
  },
  {
   "cell_type": "code",
   "execution_count": 7,
   "id": "950931e0-af56-43c5-8035-5162f5dfde6e",
   "metadata": {},
   "outputs": [
    {
     "name": "stdout",
     "output_type": "stream",
     "text": [
      "Model: \"sequential_5\"\n",
      "_________________________________________________________________\n",
      " Layer (type)                Output Shape              Param #   \n",
      "=================================================================\n",
      " batch_normalization_5 (Bat  (None, 12, 24)            96        \n",
      " chNormalization)                                                \n",
      "                                                                 \n",
      " conv1d_5 (Conv1D)           (None, 1, 32)             9248      \n",
      "                                                                 \n",
      " dense_10 (Dense)            (None, 1, 32)             1056      \n",
      "                                                                 \n",
      " dense_11 (Dense)            (None, 1, 1)              33        \n",
      "                                                                 \n",
      " reshape_4 (Reshape)         (None,)                   0         \n",
      "                                                                 \n",
      "=================================================================\n",
      "Total params: 10433 (40.75 KB)\n",
      "Trainable params: 10385 (40.57 KB)\n",
      "Non-trainable params: 48 (192.00 Byte)\n",
      "_________________________________________________________________\n"
     ]
    }
   ],
   "source": [
    "cnn_model.summary()"
   ]
  },
  {
   "cell_type": "code",
   "execution_count": 4,
   "id": "dd2eb990",
   "metadata": {},
   "outputs": [
    {
     "name": "stdout",
     "output_type": "stream",
     "text": [
      "loading train data...\n",
      "loading gas_prices...\n",
      "loading electricity_prices...\n",
      "loading forecast_weather...\n",
      "merging train and gas_prices...\n",
      "merging electricity_prices...\n",
      "merging forecast_weather...\n"
     ]
    }
   ],
   "source": [
    "df = merged_df()"
   ]
  },
  {
   "cell_type": "code",
   "execution_count": 8,
   "id": "1d2417b3",
   "metadata": {},
   "outputs": [],
   "source": [
    "#create a prediction df with all target values set to zero\n",
    "predict_df = df[:100_000].copy()"
   ]
  },
  {
   "cell_type": "code",
   "execution_count": 9,
   "id": "ea23a0a3",
   "metadata": {},
   "outputs": [],
   "source": [
    "#set the target to zero. this means we don't have any prior knowledge of the targets\n",
    "predict_df['target'] = 0."
   ]
  },
  {
   "cell_type": "code",
   "execution_count": 11,
   "id": "07d9b6b7",
   "metadata": {},
   "outputs": [],
   "source": [
    "#multi-step dense network\n",
    "CONV_WIDTH = 12\n",
    "conv_window = WindowGenerator(\n",
    "    predict_df = predict_df,\n",
    "    input_width=CONV_WIDTH,\n",
    "    label_width=1,\n",
    "    shift=1,\n",
    "    label_columns=None)"
   ]
  },
  {
   "cell_type": "code",
   "execution_count": 13,
   "id": "d8642f75",
   "metadata": {},
   "outputs": [
    {
     "name": "stdout",
     "output_type": "stream",
     "text": [
      "Input shape: (32, 12, 24)\n",
      "Output shape: (32,)\n"
     ]
    }
   ],
   "source": [
    "print('Input shape:', conv_window.example[0].shape)\n",
    "print('Output shape:', cnn_model(conv_window.example[0]).shape)"
   ]
  },
  {
   "cell_type": "code",
   "execution_count": 14,
   "id": "96e26d90",
   "metadata": {},
   "outputs": [
    {
     "name": "stdout",
     "output_type": "stream",
     "text": [
      "1/1 [==============================] - 0s 94ms/step\n"
     ]
    },
    {
     "name": "stderr",
     "output_type": "stream",
     "text": [
      "2023-12-18 16:03:39.681483: I tensorflow/core/grappler/optimizers/custom_graph_optimizer_registry.cc:117] Plugin optimizer for device_type GPU is enabled.\n"
     ]
    },
    {
     "data": {
      "text/plain": [
       "array([4.2313685, 3.3910463, 3.9411957, 3.2162964, 4.2722588, 5.0514445,\n",
       "       4.4297876, 5.149014 , 4.447609 , 5.022945 , 4.30537  , 3.3983073,\n",
       "       4.261889 , 3.7001963, 3.9156885, 3.2412844, 4.0713267, 5.434589 ,\n",
       "       3.1196723, 4.2281265, 3.1090493, 3.6270576, 5.3182025, 3.538097 ,\n",
       "       3.768826 , 2.856432 , 3.0999503, 3.006855 , 4.159416 , 5.202275 ,\n",
       "       3.4804525, 5.0501494], dtype=float32)"
      ]
     },
     "execution_count": 14,
     "metadata": {},
     "output_type": "execute_result"
    }
   ],
   "source": [
    "#note that the train, test, validation data all have a second \"label\" representing the target value\n",
    "cnn_model.predict(conv_window.example[0])"
   ]
  },
  {
   "cell_type": "code",
   "execution_count": 26,
   "id": "37d4a6ff-c432-4a74-a2ef-6cf263d16f93",
   "metadata": {},
   "outputs": [
    {
     "name": "stdout",
     "output_type": "stream",
     "text": [
      "3125/3125 [==============================] - 12s 4ms/step\n"
     ]
    }
   ],
   "source": [
    "pred=cnn_model.predict(conv_window.predict)"
   ]
  },
  {
   "cell_type": "code",
   "execution_count": 56,
   "id": "495af633-0bbc-4c50-8f0b-544a43ad1915",
   "metadata": {},
   "outputs": [
    {
     "data": {
      "text/plain": [
       "100000"
      ]
     },
     "execution_count": 56,
     "metadata": {},
     "output_type": "execute_result"
    }
   ],
   "source": [
    "pred_padded = np.pad(pred, pad_width=(0,len(predict_df)-len(pred))); len(pred_padded)"
   ]
  },
  {
   "cell_type": "code",
   "execution_count": 58,
   "id": "cfe7fc58",
   "metadata": {},
   "outputs": [
    {
     "data": {
      "text/plain": [
       "[<matplotlib.lines.Line2D at 0x17ff9f970>]"
      ]
     },
     "execution_count": 58,
     "metadata": {},
     "output_type": "execute_result"
    },
    {
     "data": {
      "image/png": "[encoded data removed]",
      "text/plain": [
       "<Figure size 640x480 with 1 Axes>"
      ]
     },
     "metadata": {},
     "output_type": "display_data"
    }
   ],
   "source": [
    "plt.plot(pred)"
   ]
  },
  {
   "cell_type": "code",
   "execution_count": null,
   "id": "1a4a94ec-6190-44f2-8c20-8a7d2945fe09",
   "metadata": {},
   "outputs": [],
   "source": []
  }
 ],
 "metadata": {
  "kernelspec": {
   "display_name": "Python 3 (ipykernel)",
   "language": "python",
   "name": "python3"
  },
  "language_info": {
   "codemirror_mode": {
    "name": "ipython",
    "version": 3
   },
   "file_extension": ".py",
   "mimetype": "text/x-python",
   "name": "python",
   "nbconvert_exporter": "python",
   "pygments_lexer": "ipython3",
   "version": "3.9.6"
  }
 },
 "nbformat": 4,
 "nbformat_minor": 5
}
