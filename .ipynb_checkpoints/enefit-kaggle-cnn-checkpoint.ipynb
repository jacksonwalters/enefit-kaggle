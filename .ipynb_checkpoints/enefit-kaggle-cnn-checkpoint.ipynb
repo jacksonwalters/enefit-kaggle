{
 "cells": [
  {
   "cell_type": "code",
   "execution_count": 1,
   "id": "871e20f2",
   "metadata": {},
   "outputs": [
    {
     "name": "stdout",
     "output_type": "stream",
     "text": [
      "client.csv                            gas_prices.csv\r\n",
      "county_id_to_name_map.json            historical_weather.csv\r\n",
      "electricity_prices.csv                public_timeseries_testing_util.py\r\n",
      "\u001b[34menefit\u001b[m\u001b[m                                train.csv\r\n",
      "\u001b[34mexample_test_files\u001b[m\u001b[m                    weather_station_to_county_mapping.csv\r\n",
      "forecast_weather.csv\r\n"
     ]
    }
   ],
   "source": [
    "import os\n",
    "os.chdir(\"/Users/jacksonwalters/Documents/GitHub/enefit-kaggle/predict-energy-behavior-of-prosumers/\")\n",
    "!ls"
   ]
  },
  {
   "cell_type": "code",
   "execution_count": null,
   "id": "61455a1c",
   "metadata": {},
   "outputs": [],
   "source": []
  }
 ],
 "metadata": {
  "kernelspec": {
   "display_name": "Python 3 (ipykernel)",
   "language": "python",
   "name": "python3"
  },
  "language_info": {
   "codemirror_mode": {
    "name": "ipython",
    "version": 3
   },
   "file_extension": ".py",
   "mimetype": "text/x-python",
   "name": "python",
   "nbconvert_exporter": "python",
   "pygments_lexer": "ipython3",
   "version": "3.8.12"
  }
 },
 "nbformat": 4,
 "nbformat_minor": 5
}
