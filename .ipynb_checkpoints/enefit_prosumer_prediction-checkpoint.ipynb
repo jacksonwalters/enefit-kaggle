{
 "cells": [
  {
   "cell_type": "code",
   "execution_count": 1,
   "id": "768c6472-aaa0-4093-a8c1-762855bfba02",
   "metadata": {},
   "outputs": [
    {
     "name": "stdout",
     "output_type": "stream",
     "text": [
      "client.csv                            forecast_weather.csv\n",
      "county_id_to_name_map.json            gas_prices.csv\n",
      "electricity_prices.csv                historical_weather.csv\n",
      "\u001b[34menefit\u001b[m\u001b[m                                public_timeseries_testing_util.py\n",
      "enefit_prosumer_prediction.ipynb      train.csv\n",
      "\u001b[34mexample_test_files\u001b[m\u001b[m                    weather_station_to_county_mapping.csv\n"
     ]
    }
   ],
   "source": [
    "!ls"
   ]
  },
  {
   "cell_type": "code",
   "execution_count": 2,
   "id": "475acf3d-941b-4b62-9551-607a224003d0",
   "metadata": {},
   "outputs": [],
   "source": [
    "import pandas as pd\n",
    "import numpy as np"
   ]
  },
  {
   "cell_type": "code",
   "execution_count": 3,
   "id": "c5e9453c-55b5-4343-8577-5a6a7f74843e",
   "metadata": {},
   "outputs": [],
   "source": [
    "training_data = pd.read_csv(\"train.csv\")"
   ]
  },
  {
   "cell_type": "code",
   "execution_count": 4,
   "id": "0f4459b8-e19e-4b59-961b-df7cda53e358",
   "metadata": {},
   "outputs": [],
   "source": [
    "training_data = training_data.dropna()"
   ]
  },
  {
   "cell_type": "code",
   "execution_count": 6,
   "id": "45b40fd8-b87d-4fbb-9e00-e96fa37f25d2",
   "metadata": {},
   "outputs": [],
   "source": [
    "#helper function to convert strings to \n",
    "from datetime import datetime\n",
    "def datestr_to_int(datetime_str):\n",
    "    return datetime.strptime(datetime_str, '%Y-%m-%d %H:%M:%S').timestamp()"
   ]
  },
  {
   "cell_type": "code",
   "execution_count": 7,
   "id": "287360c5-bd5c-4bc8-92de-8c210258ef16",
   "metadata": {},
   "outputs": [],
   "source": [
    "X = training_data.drop(\"target\", axis=1)\n",
    "X['datetime'] = X['datetime'].apply(datestr_to_int)"
   ]
  },
  {
   "cell_type": "code",
   "execution_count": 8,
   "id": "80fec6aa-63c9-427f-bd65-cd98c3aeff5e",
   "metadata": {},
   "outputs": [],
   "source": [
    "y = training_data['target']"
   ]
  },
  {
   "cell_type": "code",
   "execution_count": 9,
   "id": "df094609-ae26-48a5-a4d4-6fcc754787b3",
   "metadata": {},
   "outputs": [
    {
     "data": {
      "text/plain": [
       "False"
      ]
     },
     "execution_count": 9,
     "metadata": {},
     "output_type": "execute_result"
    }
   ],
   "source": [
    "np.any(np.isnan(y))"
   ]
  },
  {
   "cell_type": "code",
   "execution_count": 10,
   "id": "8006b17e-44dd-4dad-88f7-db9850c8c747",
   "metadata": {},
   "outputs": [
    {
     "data": {
      "text/plain": [
       "2017824"
      ]
     },
     "execution_count": 10,
     "metadata": {},
     "output_type": "execute_result"
    }
   ],
   "source": [
    "len(y)"
   ]
  },
  {
   "cell_type": "code",
   "execution_count": 11,
   "id": "8768877c-4748-453d-bf70-b27140fab47d",
   "metadata": {},
   "outputs": [],
   "source": [
    "# Modelling\n",
    "from sklearn.ensemble import RandomForestRegressor\n",
    "from sklearn.metrics import accuracy_score, confusion_matrix, precision_score, recall_score, ConfusionMatrixDisplay\n",
    "from sklearn.model_selection import RandomizedSearchCV, train_test_split\n",
    "from scipy.stats import randint\n",
    "from sklearn.metrics import mean_absolute_error"
   ]
  },
  {
   "cell_type": "code",
   "execution_count": 12,
   "id": "a9952915-63f6-4e8d-b6c1-d58ee596b118",
   "metadata": {},
   "outputs": [],
   "source": [
    "# Split the data into training and test sets\n",
    "X_train, X_test, y_train, y_test = train_test_split(X, y, test_size=0.2)"
   ]
  },
  {
   "cell_type": "code",
   "execution_count": 13,
   "id": "cde5325c-bc71-47ae-aa58-59babdaf128a",
   "metadata": {},
   "outputs": [
    {
     "data": {
      "text/html": [
       "<style>#sk-container-id-1 {color: black;}#sk-container-id-1 pre{padding: 0;}#sk-container-id-1 div.sk-toggleable {background-color: white;}#sk-container-id-1 label.sk-toggleable__label {cursor: pointer;display: block;width: 100%;margin-bottom: 0;padding: 0.3em;box-sizing: border-box;text-align: center;}#sk-container-id-1 label.sk-toggleable__label-arrow:before {content: \"▸\";float: left;margin-right: 0.25em;color: #696969;}#sk-container-id-1 label.sk-toggleable__label-arrow:hover:before {color: black;}#sk-container-id-1 div.sk-estimator:hover label.sk-toggleable__label-arrow:before {color: black;}#sk-container-id-1 div.sk-toggleable__content {max-height: 0;max-width: 0;overflow: hidden;text-align: left;background-color: #f0f8ff;}#sk-container-id-1 div.sk-toggleable__content pre {margin: 0.2em;color: black;border-radius: 0.25em;background-color: #f0f8ff;}#sk-container-id-1 input.sk-toggleable__control:checked~div.sk-toggleable__content {max-height: 200px;max-width: 100%;overflow: auto;}#sk-container-id-1 input.sk-toggleable__control:checked~label.sk-toggleable__label-arrow:before {content: \"▾\";}#sk-container-id-1 div.sk-estimator input.sk-toggleable__control:checked~label.sk-toggleable__label {background-color: #d4ebff;}#sk-container-id-1 div.sk-label input.sk-toggleable__control:checked~label.sk-toggleable__label {background-color: #d4ebff;}#sk-container-id-1 input.sk-hidden--visually {border: 0;clip: rect(1px 1px 1px 1px);clip: rect(1px, 1px, 1px, 1px);height: 1px;margin: -1px;overflow: hidden;padding: 0;position: absolute;width: 1px;}#sk-container-id-1 div.sk-estimator {font-family: monospace;background-color: #f0f8ff;border: 1px dotted black;border-radius: 0.25em;box-sizing: border-box;margin-bottom: 0.5em;}#sk-container-id-1 div.sk-estimator:hover {background-color: #d4ebff;}#sk-container-id-1 div.sk-parallel-item::after {content: \"\";width: 100%;border-bottom: 1px solid gray;flex-grow: 1;}#sk-container-id-1 div.sk-label:hover label.sk-toggleable__label {background-color: #d4ebff;}#sk-container-id-1 div.sk-serial::before {content: \"\";position: absolute;border-left: 1px solid gray;box-sizing: border-box;top: 0;bottom: 0;left: 50%;z-index: 0;}#sk-container-id-1 div.sk-serial {display: flex;flex-direction: column;align-items: center;background-color: white;padding-right: 0.2em;padding-left: 0.2em;position: relative;}#sk-container-id-1 div.sk-item {position: relative;z-index: 1;}#sk-container-id-1 div.sk-parallel {display: flex;align-items: stretch;justify-content: center;background-color: white;position: relative;}#sk-container-id-1 div.sk-item::before, #sk-container-id-1 div.sk-parallel-item::before {content: \"\";position: absolute;border-left: 1px solid gray;box-sizing: border-box;top: 0;bottom: 0;left: 50%;z-index: -1;}#sk-container-id-1 div.sk-parallel-item {display: flex;flex-direction: column;z-index: 1;position: relative;background-color: white;}#sk-container-id-1 div.sk-parallel-item:first-child::after {align-self: flex-end;width: 50%;}#sk-container-id-1 div.sk-parallel-item:last-child::after {align-self: flex-start;width: 50%;}#sk-container-id-1 div.sk-parallel-item:only-child::after {width: 0;}#sk-container-id-1 div.sk-dashed-wrapped {border: 1px dashed gray;margin: 0 0.4em 0.5em 0.4em;box-sizing: border-box;padding-bottom: 0.4em;background-color: white;}#sk-container-id-1 div.sk-label label {font-family: monospace;font-weight: bold;display: inline-block;line-height: 1.2em;}#sk-container-id-1 div.sk-label-container {text-align: center;}#sk-container-id-1 div.sk-container {/* jupyter's `normalize.less` sets `[hidden] { display: none; }` but bootstrap.min.css set `[hidden] { display: none !important; }` so we also need the `!important` here to be able to override the default hidden behavior on the sphinx rendered scikit-learn.org. See: https://github.com/scikit-learn/scikit-learn/issues/21755 */display: inline-block !important;position: relative;}#sk-container-id-1 div.sk-text-repr-fallback {display: none;}</style><div id=\"sk-container-id-1\" class=\"sk-top-container\"><div class=\"sk-text-repr-fallback\"><pre>LinearRegression()</pre><b>In a Jupyter environment, please rerun this cell to show the HTML representation or trust the notebook. <br />On GitHub, the HTML representation is unable to render, please try loading this page with nbviewer.org.</b></div><div class=\"sk-container\" hidden><div class=\"sk-item\"><div class=\"sk-estimator sk-toggleable\"><input class=\"sk-toggleable__control sk-hidden--visually\" id=\"sk-estimator-id-1\" type=\"checkbox\" checked><label for=\"sk-estimator-id-1\" class=\"sk-toggleable__label sk-toggleable__label-arrow\">LinearRegression</label><div class=\"sk-toggleable__content\"><pre>LinearRegression()</pre></div></div></div></div></div>"
      ],
      "text/plain": [
       "LinearRegression()"
      ]
     },
     "execution_count": 13,
     "metadata": {},
     "output_type": "execute_result"
    }
   ],
   "source": [
    "#create a multivariable linear regression\n",
    "from sklearn import linear_model\n",
    "regr = linear_model.LinearRegression()\n",
    "regr.fit(X, y)"
   ]
  },
  {
   "cell_type": "code",
   "execution_count": 13,
   "id": "662d255f-0042-4d93-b6eb-bac1c98e4f2a",
   "metadata": {},
   "outputs": [],
   "source": [
    "lin_pred = regr.predict(X_test)"
   ]
  },
  {
   "cell_type": "code",
   "execution_count": 14,
   "id": "3e8a92e3-1490-49a3-8ff2-0e1f85e97d91",
   "metadata": {},
   "outputs": [
    {
     "data": {
      "text/plain": [
       "364.5940864878053"
      ]
     },
     "execution_count": 14,
     "metadata": {},
     "output_type": "execute_result"
    }
   ],
   "source": [
    "mean_absolute_error(lin_pred,y_test)"
   ]
  },
  {
   "cell_type": "code",
   "execution_count": 14,
   "id": "407f34b6-a6aa-4c7e-b749-f4dd90697b22",
   "metadata": {},
   "outputs": [
    {
     "data": {
      "text/html": [
       "<div>\n",
       "<style scoped>\n",
       "    .dataframe tbody tr th:only-of-type {\n",
       "        vertical-align: middle;\n",
       "    }\n",
       "\n",
       "    .dataframe tbody tr th {\n",
       "        vertical-align: top;\n",
       "    }\n",
       "\n",
       "    .dataframe thead th {\n",
       "        text-align: right;\n",
       "    }\n",
       "</style>\n",
       "<table border=\"1\" class=\"dataframe\">\n",
       "  <thead>\n",
       "    <tr style=\"text-align: right;\">\n",
       "      <th></th>\n",
       "      <th>county</th>\n",
       "      <th>is_business</th>\n",
       "      <th>product_type</th>\n",
       "      <th>is_consumption</th>\n",
       "      <th>datetime</th>\n",
       "      <th>data_block_id</th>\n",
       "      <th>row_id</th>\n",
       "      <th>prediction_unit_id</th>\n",
       "    </tr>\n",
       "  </thead>\n",
       "  <tbody>\n",
       "    <tr>\n",
       "      <th>0</th>\n",
       "      <td>0</td>\n",
       "      <td>0</td>\n",
       "      <td>1</td>\n",
       "      <td>0</td>\n",
       "      <td>1.630469e+09</td>\n",
       "      <td>0</td>\n",
       "      <td>0</td>\n",
       "      <td>0</td>\n",
       "    </tr>\n",
       "    <tr>\n",
       "      <th>1</th>\n",
       "      <td>0</td>\n",
       "      <td>0</td>\n",
       "      <td>1</td>\n",
       "      <td>1</td>\n",
       "      <td>1.630469e+09</td>\n",
       "      <td>0</td>\n",
       "      <td>1</td>\n",
       "      <td>0</td>\n",
       "    </tr>\n",
       "    <tr>\n",
       "      <th>2</th>\n",
       "      <td>0</td>\n",
       "      <td>0</td>\n",
       "      <td>2</td>\n",
       "      <td>0</td>\n",
       "      <td>1.630469e+09</td>\n",
       "      <td>0</td>\n",
       "      <td>2</td>\n",
       "      <td>1</td>\n",
       "    </tr>\n",
       "    <tr>\n",
       "      <th>3</th>\n",
       "      <td>0</td>\n",
       "      <td>0</td>\n",
       "      <td>2</td>\n",
       "      <td>1</td>\n",
       "      <td>1.630469e+09</td>\n",
       "      <td>0</td>\n",
       "      <td>3</td>\n",
       "      <td>1</td>\n",
       "    </tr>\n",
       "    <tr>\n",
       "      <th>4</th>\n",
       "      <td>0</td>\n",
       "      <td>0</td>\n",
       "      <td>3</td>\n",
       "      <td>0</td>\n",
       "      <td>1.630469e+09</td>\n",
       "      <td>0</td>\n",
       "      <td>4</td>\n",
       "      <td>2</td>\n",
       "    </tr>\n",
       "    <tr>\n",
       "      <th>...</th>\n",
       "      <td>...</td>\n",
       "      <td>...</td>\n",
       "      <td>...</td>\n",
       "      <td>...</td>\n",
       "      <td>...</td>\n",
       "      <td>...</td>\n",
       "      <td>...</td>\n",
       "      <td>...</td>\n",
       "    </tr>\n",
       "    <tr>\n",
       "      <th>2018347</th>\n",
       "      <td>15</td>\n",
       "      <td>1</td>\n",
       "      <td>0</td>\n",
       "      <td>1</td>\n",
       "      <td>1.685588e+09</td>\n",
       "      <td>637</td>\n",
       "      <td>2018347</td>\n",
       "      <td>64</td>\n",
       "    </tr>\n",
       "    <tr>\n",
       "      <th>2018348</th>\n",
       "      <td>15</td>\n",
       "      <td>1</td>\n",
       "      <td>1</td>\n",
       "      <td>0</td>\n",
       "      <td>1.685588e+09</td>\n",
       "      <td>637</td>\n",
       "      <td>2018348</td>\n",
       "      <td>59</td>\n",
       "    </tr>\n",
       "    <tr>\n",
       "      <th>2018349</th>\n",
       "      <td>15</td>\n",
       "      <td>1</td>\n",
       "      <td>1</td>\n",
       "      <td>1</td>\n",
       "      <td>1.685588e+09</td>\n",
       "      <td>637</td>\n",
       "      <td>2018349</td>\n",
       "      <td>59</td>\n",
       "    </tr>\n",
       "    <tr>\n",
       "      <th>2018350</th>\n",
       "      <td>15</td>\n",
       "      <td>1</td>\n",
       "      <td>3</td>\n",
       "      <td>0</td>\n",
       "      <td>1.685588e+09</td>\n",
       "      <td>637</td>\n",
       "      <td>2018350</td>\n",
       "      <td>60</td>\n",
       "    </tr>\n",
       "    <tr>\n",
       "      <th>2018351</th>\n",
       "      <td>15</td>\n",
       "      <td>1</td>\n",
       "      <td>3</td>\n",
       "      <td>1</td>\n",
       "      <td>1.685588e+09</td>\n",
       "      <td>637</td>\n",
       "      <td>2018351</td>\n",
       "      <td>60</td>\n",
       "    </tr>\n",
       "  </tbody>\n",
       "</table>\n",
       "<p>2017824 rows × 8 columns</p>\n",
       "</div>"
      ],
      "text/plain": [
       "         county  is_business  product_type  is_consumption      datetime  \\\n",
       "0             0            0             1               0  1.630469e+09   \n",
       "1             0            0             1               1  1.630469e+09   \n",
       "2             0            0             2               0  1.630469e+09   \n",
       "3             0            0             2               1  1.630469e+09   \n",
       "4             0            0             3               0  1.630469e+09   \n",
       "...         ...          ...           ...             ...           ...   \n",
       "2018347      15            1             0               1  1.685588e+09   \n",
       "2018348      15            1             1               0  1.685588e+09   \n",
       "2018349      15            1             1               1  1.685588e+09   \n",
       "2018350      15            1             3               0  1.685588e+09   \n",
       "2018351      15            1             3               1  1.685588e+09   \n",
       "\n",
       "         data_block_id   row_id  prediction_unit_id  \n",
       "0                    0        0                   0  \n",
       "1                    0        1                   0  \n",
       "2                    0        2                   1  \n",
       "3                    0        3                   1  \n",
       "4                    0        4                   2  \n",
       "...                ...      ...                 ...  \n",
       "2018347            637  2018347                  64  \n",
       "2018348            637  2018348                  59  \n",
       "2018349            637  2018349                  59  \n",
       "2018350            637  2018350                  60  \n",
       "2018351            637  2018351                  60  \n",
       "\n",
       "[2017824 rows x 8 columns]"
      ]
     },
     "execution_count": 14,
     "metadata": {},
     "output_type": "execute_result"
    }
   ],
   "source": [
    "X"
   ]
  },
  {
   "cell_type": "code",
   "execution_count": 15,
   "id": "f4f5ae40-1599-4272-be0a-b817fa304e10",
   "metadata": {},
   "outputs": [
    {
     "data": {
      "text/html": [
       "<style>#sk-container-id-2 {color: black;}#sk-container-id-2 pre{padding: 0;}#sk-container-id-2 div.sk-toggleable {background-color: white;}#sk-container-id-2 label.sk-toggleable__label {cursor: pointer;display: block;width: 100%;margin-bottom: 0;padding: 0.3em;box-sizing: border-box;text-align: center;}#sk-container-id-2 label.sk-toggleable__label-arrow:before {content: \"▸\";float: left;margin-right: 0.25em;color: #696969;}#sk-container-id-2 label.sk-toggleable__label-arrow:hover:before {color: black;}#sk-container-id-2 div.sk-estimator:hover label.sk-toggleable__label-arrow:before {color: black;}#sk-container-id-2 div.sk-toggleable__content {max-height: 0;max-width: 0;overflow: hidden;text-align: left;background-color: #f0f8ff;}#sk-container-id-2 div.sk-toggleable__content pre {margin: 0.2em;color: black;border-radius: 0.25em;background-color: #f0f8ff;}#sk-container-id-2 input.sk-toggleable__control:checked~div.sk-toggleable__content {max-height: 200px;max-width: 100%;overflow: auto;}#sk-container-id-2 input.sk-toggleable__control:checked~label.sk-toggleable__label-arrow:before {content: \"▾\";}#sk-container-id-2 div.sk-estimator input.sk-toggleable__control:checked~label.sk-toggleable__label {background-color: #d4ebff;}#sk-container-id-2 div.sk-label input.sk-toggleable__control:checked~label.sk-toggleable__label {background-color: #d4ebff;}#sk-container-id-2 input.sk-hidden--visually {border: 0;clip: rect(1px 1px 1px 1px);clip: rect(1px, 1px, 1px, 1px);height: 1px;margin: -1px;overflow: hidden;padding: 0;position: absolute;width: 1px;}#sk-container-id-2 div.sk-estimator {font-family: monospace;background-color: #f0f8ff;border: 1px dotted black;border-radius: 0.25em;box-sizing: border-box;margin-bottom: 0.5em;}#sk-container-id-2 div.sk-estimator:hover {background-color: #d4ebff;}#sk-container-id-2 div.sk-parallel-item::after {content: \"\";width: 100%;border-bottom: 1px solid gray;flex-grow: 1;}#sk-container-id-2 div.sk-label:hover label.sk-toggleable__label {background-color: #d4ebff;}#sk-container-id-2 div.sk-serial::before {content: \"\";position: absolute;border-left: 1px solid gray;box-sizing: border-box;top: 0;bottom: 0;left: 50%;z-index: 0;}#sk-container-id-2 div.sk-serial {display: flex;flex-direction: column;align-items: center;background-color: white;padding-right: 0.2em;padding-left: 0.2em;position: relative;}#sk-container-id-2 div.sk-item {position: relative;z-index: 1;}#sk-container-id-2 div.sk-parallel {display: flex;align-items: stretch;justify-content: center;background-color: white;position: relative;}#sk-container-id-2 div.sk-item::before, #sk-container-id-2 div.sk-parallel-item::before {content: \"\";position: absolute;border-left: 1px solid gray;box-sizing: border-box;top: 0;bottom: 0;left: 50%;z-index: -1;}#sk-container-id-2 div.sk-parallel-item {display: flex;flex-direction: column;z-index: 1;position: relative;background-color: white;}#sk-container-id-2 div.sk-parallel-item:first-child::after {align-self: flex-end;width: 50%;}#sk-container-id-2 div.sk-parallel-item:last-child::after {align-self: flex-start;width: 50%;}#sk-container-id-2 div.sk-parallel-item:only-child::after {width: 0;}#sk-container-id-2 div.sk-dashed-wrapped {border: 1px dashed gray;margin: 0 0.4em 0.5em 0.4em;box-sizing: border-box;padding-bottom: 0.4em;background-color: white;}#sk-container-id-2 div.sk-label label {font-family: monospace;font-weight: bold;display: inline-block;line-height: 1.2em;}#sk-container-id-2 div.sk-label-container {text-align: center;}#sk-container-id-2 div.sk-container {/* jupyter's `normalize.less` sets `[hidden] { display: none; }` but bootstrap.min.css set `[hidden] { display: none !important; }` so we also need the `!important` here to be able to override the default hidden behavior on the sphinx rendered scikit-learn.org. See: https://github.com/scikit-learn/scikit-learn/issues/21755 */display: inline-block !important;position: relative;}#sk-container-id-2 div.sk-text-repr-fallback {display: none;}</style><div id=\"sk-container-id-2\" class=\"sk-top-container\"><div class=\"sk-text-repr-fallback\"><pre>RandomForestRegressor(n_estimators=10)</pre><b>In a Jupyter environment, please rerun this cell to show the HTML representation or trust the notebook. <br />On GitHub, the HTML representation is unable to render, please try loading this page with nbviewer.org.</b></div><div class=\"sk-container\" hidden><div class=\"sk-item\"><div class=\"sk-estimator sk-toggleable\"><input class=\"sk-toggleable__control sk-hidden--visually\" id=\"sk-estimator-id-2\" type=\"checkbox\" checked><label for=\"sk-estimator-id-2\" class=\"sk-toggleable__label sk-toggleable__label-arrow\">RandomForestRegressor</label><div class=\"sk-toggleable__content\"><pre>RandomForestRegressor(n_estimators=10)</pre></div></div></div></div></div>"
      ],
      "text/plain": [
       "RandomForestRegressor(n_estimators=10)"
      ]
     },
     "execution_count": 15,
     "metadata": {},
     "output_type": "execute_result"
    }
   ],
   "source": [
    "rf = RandomForestRegressor(n_estimators=10)\n",
    "rf.fit(X_train, y_train)"
   ]
  },
  {
   "cell_type": "code",
   "execution_count": 82,
   "id": "a67ce205-224b-4cab-bfdd-fc0d224924de",
   "metadata": {},
   "outputs": [],
   "source": [
    "#predict the target values using the random forest regressor\n",
    "y_pred = rf.predict(X_test)"
   ]
  },
  {
   "cell_type": "code",
   "execution_count": 81,
   "id": "4ca074ff-fe3d-4e54-89e5-bf261b383ca5",
   "metadata": {},
   "outputs": [
    {
     "data": {
      "text/plain": [
       "25.68489823869761"
      ]
     },
     "execution_count": 81,
     "metadata": {},
     "output_type": "execute_result"
    }
   ],
   "source": [
    "#mean absolute error for random regressor\n",
    "mean_absolute_error(y_test,y_pred)"
   ]
  },
  {
   "cell_type": "code",
   "execution_count": 18,
   "id": "a57b757f-c811-4802-b149-7501823ce1d3",
   "metadata": {},
   "outputs": [],
   "source": [
    "forecast_weather = pd.read_csv(\"forecast_weather.csv\")"
   ]
  },
  {
   "cell_type": "code",
   "execution_count": 19,
   "id": "81838e8a-8dba-4852-b0a8-72567834508b",
   "metadata": {},
   "outputs": [
    {
     "data": {
      "text/html": [
       "<div>\n",
       "<style scoped>\n",
       "    .dataframe tbody tr th:only-of-type {\n",
       "        vertical-align: middle;\n",
       "    }\n",
       "\n",
       "    .dataframe tbody tr th {\n",
       "        vertical-align: top;\n",
       "    }\n",
       "\n",
       "    .dataframe thead th {\n",
       "        text-align: right;\n",
       "    }\n",
       "</style>\n",
       "<table border=\"1\" class=\"dataframe\">\n",
       "  <thead>\n",
       "    <tr style=\"text-align: right;\">\n",
       "      <th></th>\n",
       "      <th>latitude</th>\n",
       "      <th>longitude</th>\n",
       "      <th>origin_datetime</th>\n",
       "      <th>hours_ahead</th>\n",
       "      <th>temperature</th>\n",
       "      <th>dewpoint</th>\n",
       "      <th>cloudcover_high</th>\n",
       "      <th>cloudcover_low</th>\n",
       "      <th>cloudcover_mid</th>\n",
       "      <th>cloudcover_total</th>\n",
       "      <th>10_metre_u_wind_component</th>\n",
       "      <th>10_metre_v_wind_component</th>\n",
       "      <th>data_block_id</th>\n",
       "      <th>forecast_datetime</th>\n",
       "      <th>direct_solar_radiation</th>\n",
       "      <th>surface_solar_radiation_downwards</th>\n",
       "      <th>snowfall</th>\n",
       "      <th>total_precipitation</th>\n",
       "    </tr>\n",
       "  </thead>\n",
       "  <tbody>\n",
       "    <tr>\n",
       "      <th>0</th>\n",
       "      <td>57.6</td>\n",
       "      <td>21.7</td>\n",
       "      <td>2021-08-31 23:00:00+00:00</td>\n",
       "      <td>1</td>\n",
       "      <td>15.655786</td>\n",
       "      <td>11.553613</td>\n",
       "      <td>0.904816</td>\n",
       "      <td>0.019714</td>\n",
       "      <td>0.000000</td>\n",
       "      <td>0.905899</td>\n",
       "      <td>-0.411328</td>\n",
       "      <td>-9.106137</td>\n",
       "      <td>1</td>\n",
       "      <td>2021-09-01 00:00:00+00:00</td>\n",
       "      <td>0.0</td>\n",
       "      <td>0.0</td>\n",
       "      <td>0.0</td>\n",
       "      <td>0.0</td>\n",
       "    </tr>\n",
       "    <tr>\n",
       "      <th>1</th>\n",
       "      <td>57.6</td>\n",
       "      <td>22.2</td>\n",
       "      <td>2021-08-31 23:00:00+00:00</td>\n",
       "      <td>1</td>\n",
       "      <td>13.003931</td>\n",
       "      <td>10.689844</td>\n",
       "      <td>0.886322</td>\n",
       "      <td>0.004456</td>\n",
       "      <td>0.000000</td>\n",
       "      <td>0.886658</td>\n",
       "      <td>0.206347</td>\n",
       "      <td>-5.355405</td>\n",
       "      <td>1</td>\n",
       "      <td>2021-09-01 00:00:00+00:00</td>\n",
       "      <td>0.0</td>\n",
       "      <td>0.0</td>\n",
       "      <td>0.0</td>\n",
       "      <td>0.0</td>\n",
       "    </tr>\n",
       "    <tr>\n",
       "      <th>2</th>\n",
       "      <td>57.6</td>\n",
       "      <td>22.7</td>\n",
       "      <td>2021-08-31 23:00:00+00:00</td>\n",
       "      <td>1</td>\n",
       "      <td>14.206567</td>\n",
       "      <td>11.671777</td>\n",
       "      <td>0.729034</td>\n",
       "      <td>0.005615</td>\n",
       "      <td>0.000000</td>\n",
       "      <td>0.730499</td>\n",
       "      <td>1.451587</td>\n",
       "      <td>-7.417905</td>\n",
       "      <td>1</td>\n",
       "      <td>2021-09-01 00:00:00+00:00</td>\n",
       "      <td>0.0</td>\n",
       "      <td>0.0</td>\n",
       "      <td>0.0</td>\n",
       "      <td>0.0</td>\n",
       "    </tr>\n",
       "    <tr>\n",
       "      <th>3</th>\n",
       "      <td>57.6</td>\n",
       "      <td>23.2</td>\n",
       "      <td>2021-08-31 23:00:00+00:00</td>\n",
       "      <td>1</td>\n",
       "      <td>14.844507</td>\n",
       "      <td>12.264917</td>\n",
       "      <td>0.336304</td>\n",
       "      <td>0.074341</td>\n",
       "      <td>0.000626</td>\n",
       "      <td>0.385468</td>\n",
       "      <td>1.090869</td>\n",
       "      <td>-9.163999</td>\n",
       "      <td>1</td>\n",
       "      <td>2021-09-01 00:00:00+00:00</td>\n",
       "      <td>0.0</td>\n",
       "      <td>0.0</td>\n",
       "      <td>0.0</td>\n",
       "      <td>0.0</td>\n",
       "    </tr>\n",
       "    <tr>\n",
       "      <th>4</th>\n",
       "      <td>57.6</td>\n",
       "      <td>23.7</td>\n",
       "      <td>2021-08-31 23:00:00+00:00</td>\n",
       "      <td>1</td>\n",
       "      <td>15.293848</td>\n",
       "      <td>12.458887</td>\n",
       "      <td>0.102875</td>\n",
       "      <td>0.088074</td>\n",
       "      <td>0.000015</td>\n",
       "      <td>0.176590</td>\n",
       "      <td>1.268481</td>\n",
       "      <td>-8.975766</td>\n",
       "      <td>1</td>\n",
       "      <td>2021-09-01 00:00:00+00:00</td>\n",
       "      <td>0.0</td>\n",
       "      <td>0.0</td>\n",
       "      <td>0.0</td>\n",
       "      <td>0.0</td>\n",
       "    </tr>\n",
       "    <tr>\n",
       "      <th>...</th>\n",
       "      <td>...</td>\n",
       "      <td>...</td>\n",
       "      <td>...</td>\n",
       "      <td>...</td>\n",
       "      <td>...</td>\n",
       "      <td>...</td>\n",
       "      <td>...</td>\n",
       "      <td>...</td>\n",
       "      <td>...</td>\n",
       "      <td>...</td>\n",
       "      <td>...</td>\n",
       "      <td>...</td>\n",
       "      <td>...</td>\n",
       "      <td>...</td>\n",
       "      <td>...</td>\n",
       "      <td>...</td>\n",
       "      <td>...</td>\n",
       "      <td>...</td>\n",
       "    </tr>\n",
       "    <tr>\n",
       "      <th>3424507</th>\n",
       "      <td>59.7</td>\n",
       "      <td>26.2</td>\n",
       "      <td>2023-05-29 23:00:00+00:00</td>\n",
       "      <td>48</td>\n",
       "      <td>10.150049</td>\n",
       "      <td>5.662744</td>\n",
       "      <td>0.061066</td>\n",
       "      <td>0.257339</td>\n",
       "      <td>0.004059</td>\n",
       "      <td>0.308594</td>\n",
       "      <td>6.890626</td>\n",
       "      <td>-3.258144</td>\n",
       "      <td>637</td>\n",
       "      <td>2023-05-31 23:00:00+00:00</td>\n",
       "      <td>0.0</td>\n",
       "      <td>0.0</td>\n",
       "      <td>0.0</td>\n",
       "      <td>0.0</td>\n",
       "    </tr>\n",
       "    <tr>\n",
       "      <th>3424508</th>\n",
       "      <td>59.7</td>\n",
       "      <td>26.7</td>\n",
       "      <td>2023-05-29 23:00:00+00:00</td>\n",
       "      <td>48</td>\n",
       "      <td>10.259790</td>\n",
       "      <td>5.922754</td>\n",
       "      <td>0.107880</td>\n",
       "      <td>0.895203</td>\n",
       "      <td>0.198700</td>\n",
       "      <td>0.906036</td>\n",
       "      <td>6.890626</td>\n",
       "      <td>-3.768032</td>\n",
       "      <td>637</td>\n",
       "      <td>2023-05-31 23:00:00+00:00</td>\n",
       "      <td>0.0</td>\n",
       "      <td>0.0</td>\n",
       "      <td>0.0</td>\n",
       "      <td>0.0</td>\n",
       "    </tr>\n",
       "    <tr>\n",
       "      <th>3424509</th>\n",
       "      <td>59.7</td>\n",
       "      <td>27.2</td>\n",
       "      <td>2023-05-29 23:00:00+00:00</td>\n",
       "      <td>48</td>\n",
       "      <td>10.467798</td>\n",
       "      <td>6.072534</td>\n",
       "      <td>0.000000</td>\n",
       "      <td>0.387466</td>\n",
       "      <td>0.448853</td>\n",
       "      <td>0.530518</td>\n",
       "      <td>6.214112</td>\n",
       "      <td>-4.700405</td>\n",
       "      <td>637</td>\n",
       "      <td>2023-05-31 23:00:00+00:00</td>\n",
       "      <td>0.0</td>\n",
       "      <td>0.0</td>\n",
       "      <td>0.0</td>\n",
       "      <td>0.0</td>\n",
       "    </tr>\n",
       "    <tr>\n",
       "      <th>3424510</th>\n",
       "      <td>59.7</td>\n",
       "      <td>27.7</td>\n",
       "      <td>2023-05-29 23:00:00+00:00</td>\n",
       "      <td>48</td>\n",
       "      <td>10.694116</td>\n",
       "      <td>7.009058</td>\n",
       "      <td>0.000000</td>\n",
       "      <td>0.505936</td>\n",
       "      <td>0.997314</td>\n",
       "      <td>0.997498</td>\n",
       "      <td>5.810060</td>\n",
       "      <td>-4.338345</td>\n",
       "      <td>637</td>\n",
       "      <td>2023-05-31 23:00:00+00:00</td>\n",
       "      <td>0.0</td>\n",
       "      <td>0.0</td>\n",
       "      <td>0.0</td>\n",
       "      <td>0.0</td>\n",
       "    </tr>\n",
       "    <tr>\n",
       "      <th>3424511</th>\n",
       "      <td>59.7</td>\n",
       "      <td>28.2</td>\n",
       "      <td>2023-05-29 23:00:00+00:00</td>\n",
       "      <td>48</td>\n",
       "      <td>11.233179</td>\n",
       "      <td>7.069238</td>\n",
       "      <td>0.703461</td>\n",
       "      <td>0.292313</td>\n",
       "      <td>0.934021</td>\n",
       "      <td>0.989716</td>\n",
       "      <td>2.719728</td>\n",
       "      <td>-0.922939</td>\n",
       "      <td>637</td>\n",
       "      <td>2023-05-31 23:00:00+00:00</td>\n",
       "      <td>0.0</td>\n",
       "      <td>0.0</td>\n",
       "      <td>0.0</td>\n",
       "      <td>0.0</td>\n",
       "    </tr>\n",
       "  </tbody>\n",
       "</table>\n",
       "<p>3424512 rows × 18 columns</p>\n",
       "</div>"
      ],
      "text/plain": [
       "         latitude  longitude            origin_datetime  hours_ahead  \\\n",
       "0            57.6       21.7  2021-08-31 23:00:00+00:00            1   \n",
       "1            57.6       22.2  2021-08-31 23:00:00+00:00            1   \n",
       "2            57.6       22.7  2021-08-31 23:00:00+00:00            1   \n",
       "3            57.6       23.2  2021-08-31 23:00:00+00:00            1   \n",
       "4            57.6       23.7  2021-08-31 23:00:00+00:00            1   \n",
       "...           ...        ...                        ...          ...   \n",
       "3424507      59.7       26.2  2023-05-29 23:00:00+00:00           48   \n",
       "3424508      59.7       26.7  2023-05-29 23:00:00+00:00           48   \n",
       "3424509      59.7       27.2  2023-05-29 23:00:00+00:00           48   \n",
       "3424510      59.7       27.7  2023-05-29 23:00:00+00:00           48   \n",
       "3424511      59.7       28.2  2023-05-29 23:00:00+00:00           48   \n",
       "\n",
       "         temperature   dewpoint  cloudcover_high  cloudcover_low  \\\n",
       "0          15.655786  11.553613         0.904816        0.019714   \n",
       "1          13.003931  10.689844         0.886322        0.004456   \n",
       "2          14.206567  11.671777         0.729034        0.005615   \n",
       "3          14.844507  12.264917         0.336304        0.074341   \n",
       "4          15.293848  12.458887         0.102875        0.088074   \n",
       "...              ...        ...              ...             ...   \n",
       "3424507    10.150049   5.662744         0.061066        0.257339   \n",
       "3424508    10.259790   5.922754         0.107880        0.895203   \n",
       "3424509    10.467798   6.072534         0.000000        0.387466   \n",
       "3424510    10.694116   7.009058         0.000000        0.505936   \n",
       "3424511    11.233179   7.069238         0.703461        0.292313   \n",
       "\n",
       "         cloudcover_mid  cloudcover_total  10_metre_u_wind_component  \\\n",
       "0              0.000000          0.905899                  -0.411328   \n",
       "1              0.000000          0.886658                   0.206347   \n",
       "2              0.000000          0.730499                   1.451587   \n",
       "3              0.000626          0.385468                   1.090869   \n",
       "4              0.000015          0.176590                   1.268481   \n",
       "...                 ...               ...                        ...   \n",
       "3424507        0.004059          0.308594                   6.890626   \n",
       "3424508        0.198700          0.906036                   6.890626   \n",
       "3424509        0.448853          0.530518                   6.214112   \n",
       "3424510        0.997314          0.997498                   5.810060   \n",
       "3424511        0.934021          0.989716                   2.719728   \n",
       "\n",
       "         10_metre_v_wind_component  data_block_id          forecast_datetime  \\\n",
       "0                        -9.106137              1  2021-09-01 00:00:00+00:00   \n",
       "1                        -5.355405              1  2021-09-01 00:00:00+00:00   \n",
       "2                        -7.417905              1  2021-09-01 00:00:00+00:00   \n",
       "3                        -9.163999              1  2021-09-01 00:00:00+00:00   \n",
       "4                        -8.975766              1  2021-09-01 00:00:00+00:00   \n",
       "...                            ...            ...                        ...   \n",
       "3424507                  -3.258144            637  2023-05-31 23:00:00+00:00   \n",
       "3424508                  -3.768032            637  2023-05-31 23:00:00+00:00   \n",
       "3424509                  -4.700405            637  2023-05-31 23:00:00+00:00   \n",
       "3424510                  -4.338345            637  2023-05-31 23:00:00+00:00   \n",
       "3424511                  -0.922939            637  2023-05-31 23:00:00+00:00   \n",
       "\n",
       "         direct_solar_radiation  surface_solar_radiation_downwards  snowfall  \\\n",
       "0                           0.0                                0.0       0.0   \n",
       "1                           0.0                                0.0       0.0   \n",
       "2                           0.0                                0.0       0.0   \n",
       "3                           0.0                                0.0       0.0   \n",
       "4                           0.0                                0.0       0.0   \n",
       "...                         ...                                ...       ...   \n",
       "3424507                     0.0                                0.0       0.0   \n",
       "3424508                     0.0                                0.0       0.0   \n",
       "3424509                     0.0                                0.0       0.0   \n",
       "3424510                     0.0                                0.0       0.0   \n",
       "3424511                     0.0                                0.0       0.0   \n",
       "\n",
       "         total_precipitation  \n",
       "0                        0.0  \n",
       "1                        0.0  \n",
       "2                        0.0  \n",
       "3                        0.0  \n",
       "4                        0.0  \n",
       "...                      ...  \n",
       "3424507                  0.0  \n",
       "3424508                  0.0  \n",
       "3424509                  0.0  \n",
       "3424510                  0.0  \n",
       "3424511                  0.0  \n",
       "\n",
       "[3424512 rows x 18 columns]"
      ]
     },
     "execution_count": 19,
     "metadata": {},
     "output_type": "execute_result"
    }
   ],
   "source": [
    "forecast_weather"
   ]
  },
  {
   "cell_type": "code",
   "execution_count": 16,
   "id": "439fcf97-b8dc-41bb-8321-133bd257032f",
   "metadata": {},
   "outputs": [],
   "source": [
    "import matplotlib.pyplot as plt"
   ]
  },
  {
   "cell_type": "code",
   "execution_count": 28,
   "id": "677ecebe-2a99-48bd-933a-31aff62169b1",
   "metadata": {},
   "outputs": [],
   "source": [
    "weather_data = forecast_weather[\"direct_solar_radiation\"].dropna()"
   ]
  },
  {
   "cell_type": "code",
   "execution_count": 29,
   "id": "dc102e52-fe38-4dce-b015-5d7c64103e74",
   "metadata": {},
   "outputs": [
    {
     "data": {
      "text/plain": [
       "[<matplotlib.lines.Line2D at 0x169a82e80>]"
      ]
     },
     "execution_count": 29,
     "metadata": {},
     "output_type": "execute_result"
    },
    {
     "data": {
      "image/png": "[encoded data removed]",
      "text/plain": [
       "<Figure size 640x480 with 1 Axes>"
      ]
     },
     "metadata": {},
     "output_type": "display_data"
    }
   ],
   "source": [
    "plt.plot(weather_data)"
   ]
  },
  {
   "cell_type": "code",
   "execution_count": 24,
   "id": "86216aa4-2c66-4989-b5d0-c659e07e5f84",
   "metadata": {},
   "outputs": [],
   "source": [
    "from scipy.fft import fft"
   ]
  },
  {
   "cell_type": "code",
   "execution_count": 30,
   "id": "a5024de5-68b6-474a-8f6d-8de319be0871",
   "metadata": {},
   "outputs": [],
   "source": [
    "weather_data_fft = fft(np.array(weather_data))"
   ]
  },
  {
   "cell_type": "code",
   "execution_count": 56,
   "id": "fafa0e37-ff74-48b4-a31d-8bf0ca9a295c",
   "metadata": {},
   "outputs": [],
   "source": [
    "weather_data_abs_fft=[abs(x) for x in weather_data_fft]"
   ]
  },
  {
   "cell_type": "code",
   "execution_count": 32,
   "id": "58d698fa-04f1-4ec5-ae54-c0a5f5b5f051",
   "metadata": {},
   "outputs": [
    {
     "data": {
      "text/plain": [
       "[<matplotlib.lines.Line2D at 0x11c06ee50>]"
      ]
     },
     "execution_count": 32,
     "metadata": {},
     "output_type": "execute_result"
    },
    {
     "data": {
      "image/png": "[encoded data removed]",
      "text/plain": [
       "<Figure size 640x480 with 1 Axes>"
      ]
     },
     "metadata": {},
     "output_type": "display_data"
    }
   ],
   "source": [
    "plt.plot(weather_data_abs_fft)"
   ]
  }
 ],
 "metadata": {
  "kernelspec": {
   "display_name": "Python 3 (ipykernel)",
   "language": "python",
   "name": "python3"
  },
  "language_info": {
   "codemirror_mode": {
    "name": "ipython",
    "version": 3
   },
   "file_extension": ".py",
   "mimetype": "text/x-python",
   "name": "python",
   "nbconvert_exporter": "python",
   "pygments_lexer": "ipython3",
   "version": "3.9.6"
  }
 },
 "nbformat": 4,
 "nbformat_minor": 5
}
