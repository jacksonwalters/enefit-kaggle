{
 "cells": [
  {
   "cell_type": "code",
   "execution_count": 1,
   "id": "7093b412",
   "metadata": {},
   "outputs": [
    {
     "name": "stdout",
     "output_type": "stream",
     "text": [
      "client.csv                            gas_prices.csv\r\n",
      "county_id_to_name_map.json            historical_weather.csv\r\n",
      "electricity_prices.csv                public_timeseries_testing_util.py\r\n",
      "\u001b[34menefit\u001b[m\u001b[m                                train.csv\r\n",
      "\u001b[34mexample_test_files\u001b[m\u001b[m                    weather_station_to_county_mapping.csv\r\n",
      "forecast_weather.csv\r\n"
     ]
    }
   ],
   "source": [
    "import os\n",
    "os.chdir(\"/Users/jacksonwalters/Documents/GitHub/enefit-kaggle/predict-energy-behavior-of-prosumers/\")\n",
    "!ls"
   ]
  },
  {
   "cell_type": "code",
   "execution_count": 2,
   "id": "8bcd63e3",
   "metadata": {},
   "outputs": [],
   "source": [
    "import tensorflow as tf"
   ]
  },
  {
   "cell_type": "code",
   "execution_count": 15,
   "id": "39c40563",
   "metadata": {},
   "outputs": [],
   "source": [
    "#bug with normalization axis=-1\n",
    "#reloading via keras is causing errors\n",
    "#reloaded = tf.keras.models.load_model('../models/dnn_model.keras')"
   ]
  },
  {
   "cell_type": "code",
   "execution_count": 4,
   "id": "99d24e70",
   "metadata": {},
   "outputs": [],
   "source": [
    "import pickle\n",
    "dnn_model=pickle.load(open('../models/dnn_model.sav', 'rb'))"
   ]
  },
  {
   "cell_type": "code",
   "execution_count": 5,
   "id": "38575355",
   "metadata": {},
   "outputs": [
    {
     "data": {
      "text/plain": [
       "<keras.engine.sequential.Sequential at 0x1081485b0>"
      ]
     },
     "execution_count": 5,
     "metadata": {},
     "output_type": "execute_result"
    }
   ],
   "source": [
    "dnn_model"
   ]
  },
  {
   "cell_type": "code",
   "execution_count": 7,
   "id": "de9a2176",
   "metadata": {},
   "outputs": [],
   "source": [
    "from load_data import merged_df"
   ]
  },
  {
   "cell_type": "code",
   "execution_count": 8,
   "id": "c692eb50",
   "metadata": {},
   "outputs": [
    {
     "name": "stdout",
     "output_type": "stream",
     "text": [
      "loading train data...\n",
      "loading gas_prices...\n",
      "loading electricity_prices...\n",
      "loading forecast_weather...\n",
      "merging train and gas_prices...\n",
      "merging electricity_prices...\n",
      "merging forecast_weather...\n"
     ]
    }
   ],
   "source": [
    "df = merged_df()"
   ]
  },
  {
   "cell_type": "code",
   "execution_count": 13,
   "id": "6e40593a",
   "metadata": {},
   "outputs": [],
   "source": [
    "predict_df = df[:100_000].copy().drop(columns=['target'])"
   ]
  },
  {
   "cell_type": "code",
   "execution_count": 14,
   "id": "275536bc",
   "metadata": {},
   "outputs": [
    {
     "data": {
      "text/plain": [
       "array([[ 1.0055045 ],\n",
       "       [ 0.7477191 ],\n",
       "       [ 0.08813061],\n",
       "       [ 0.09796126],\n",
       "       [-0.02741961],\n",
       "       [ 0.27018863],\n",
       "       [ 0.6554416 ],\n",
       "       [ 0.46307856],\n",
       "       [ 0.4782588 ],\n",
       "       [ 0.47015578]], dtype=float32)"
      ]
     },
     "execution_count": 14,
     "metadata": {},
     "output_type": "execute_result"
    }
   ],
   "source": [
    "dnn_model.predict(predict_df[:10])"
   ]
  },
  {
   "cell_type": "code",
   "execution_count": null,
   "id": "7e82eb67",
   "metadata": {},
   "outputs": [],
   "source": []
  }
 ],
 "metadata": {
  "kernelspec": {
   "display_name": "Python 3 (ipykernel)",
   "language": "python",
   "name": "python3"
  },
  "language_info": {
   "codemirror_mode": {
    "name": "ipython",
    "version": 3
   },
   "file_extension": ".py",
   "mimetype": "text/x-python",
   "name": "python",
   "nbconvert_exporter": "python",
   "pygments_lexer": "ipython3",
   "version": "3.8.12"
  }
 },
 "nbformat": 4,
 "nbformat_minor": 5
}
