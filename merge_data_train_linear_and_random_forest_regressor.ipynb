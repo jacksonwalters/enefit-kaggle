{
 "cells": [
  {
   "cell_type": "code",
   "execution_count": 4,
   "id": "cf908791",
   "metadata": {},
   "outputs": [
    {
     "name": "stdout",
     "output_type": "stream",
     "text": [
      "client.csv                            gas_prices.csv\r\n",
      "county_id_to_name_map.json            historical_weather.csv\r\n",
      "electricity_prices.csv                public_timeseries_testing_util.py\r\n",
      "\u001b[34menefit\u001b[m\u001b[m                                train.csv\r\n",
      "\u001b[34mexample_test_files\u001b[m\u001b[m                    weather_station_to_county_mapping.csv\r\n",
      "forecast_weather.csv\r\n"
     ]
    }
   ],
   "source": [
    "import os\n",
    "os.chdir(\"/Users/jacksonwalters/Documents/GitHub/enefit-kaggle/predict-energy-behavior-of-prosumers/\")\n",
    "!ls"
   ]
  },
  {
   "cell_type": "code",
   "execution_count": 5,
   "id": "4c367fb0",
   "metadata": {},
   "outputs": [],
   "source": [
    "import matplotlib.pyplot as plt\n",
    "import numpy as np\n",
    "import pandas as pd"
   ]
  },
  {
   "cell_type": "code",
   "execution_count": 6,
   "id": "b5cb4ca3",
   "metadata": {},
   "outputs": [],
   "source": [
    "#helper function to convert datetime strings to integers representing a time year-month-day hour-min-sec\n",
    "from datetime import datetime\n",
    "def datestr_to_int(datetime_str,date_format):\n",
    "    return datetime.strptime(datetime_str, date_format).timestamp()"
   ]
  },
  {
   "cell_type": "code",
   "execution_count": 7,
   "id": "dcebe93e",
   "metadata": {},
   "outputs": [],
   "source": [
    "#load the training data, dropping NaN's\n",
    "train = pd.read_csv(\"train.csv\").dropna()\n",
    "train['datetime'] = train['datetime'].apply(lambda x: datestr_to_int(x,'%Y-%m-%d %H:%M:%S'))"
   ]
  },
  {
   "cell_type": "code",
   "execution_count": 8,
   "id": "447e9bf0",
   "metadata": {},
   "outputs": [],
   "source": [
    "gas_prices = pd.read_csv(\"gas_prices.csv\")\n",
    "#convert date strings to ints\n",
    "gas_prices['forecast_date'] = gas_prices['forecast_date'].apply(lambda x: datestr_to_int(x,'%Y-%m-%d'))\n",
    "gas_prices['origin_date'] = gas_prices['origin_date'].apply(lambda x: datestr_to_int(x,'%Y-%m-%d'))\n",
    "gas_prices['data_block_id'] -= 2"
   ]
  },
  {
   "cell_type": "code",
   "execution_count": 9,
   "id": "bc5f217a",
   "metadata": {},
   "outputs": [],
   "source": [
    "electricity_prices = pd.read_csv(\"electricity_prices.csv\")\n",
    "#convert date strings to ints\n",
    "electricity_prices['forecast_date'] = electricity_prices['forecast_date'].apply(lambda x: datestr_to_int(x,'%Y-%m-%d %H:%M:%S'))\n",
    "electricity_prices['origin_date'] = electricity_prices['origin_date'].apply(lambda x: datestr_to_int(x,'%Y-%m-%d %H:%M:%S'))\n",
    "electricity_prices['data_block_id'] -= 2"
   ]
  },
  {
   "cell_type": "code",
   "execution_count": 10,
   "id": "47127201",
   "metadata": {},
   "outputs": [],
   "source": [
    "forecast_weather = pd.read_csv(\"forecast_weather.csv\")\n",
    "#convert strings to ints\n",
    "forecast_weather['origin_datetime'] = forecast_weather['origin_datetime'].apply(lambda x: datestr_to_int(x,'%Y-%m-%d %H:%M:%S%z'))\n",
    "forecast_weather['forecast_datetime'] = forecast_weather['forecast_datetime'].apply(lambda x: datestr_to_int(x,'%Y-%m-%d %H:%M:%S%z'))\n",
    "forecast_weather = forecast_weather.rename(columns={'forecast_datetime':'forecast_date','origin_datetime':'origin_date'})\n",
    "forecast_weather['data_block_id'] -= 2"
   ]
  },
  {
   "cell_type": "code",
   "execution_count": 11,
   "id": "b805c87f",
   "metadata": {},
   "outputs": [],
   "source": [
    "#https://www.kaggle.com/competitions/predict-energy-behavior-of-prosumers/discussion/455100"
   ]
  },
  {
   "cell_type": "code",
   "execution_count": 13,
   "id": "fcf503ec",
   "metadata": {},
   "outputs": [],
   "source": [
    "#merge gas prices and train.csv data\n",
    "#column names differ, so use left_on and right_on\n",
    "df = pd.merge(train, gas_prices, left_on=['data_block_id','datetime'], right_on=['data_block_id','origin_date'], how='left')"
   ]
  },
  {
   "cell_type": "code",
   "execution_count": 14,
   "id": "a84f6380",
   "metadata": {},
   "outputs": [],
   "source": [
    "#merge train and gas_prices via left join on data_block_id\n",
    "#this leaves all rows of train, but matches\n",
    "df = df.merge(electricity_prices, on=['data_block_id','origin_date','forecast_date'], how='left')"
   ]
  },
  {
   "cell_type": "code",
   "execution_count": 16,
   "id": "258dea88",
   "metadata": {},
   "outputs": [
    {
     "data": {
      "text/html": [
       "<div>\n",
       "<style scoped>\n",
       "    .dataframe tbody tr th:only-of-type {\n",
       "        vertical-align: middle;\n",
       "    }\n",
       "\n",
       "    .dataframe tbody tr th {\n",
       "        vertical-align: top;\n",
       "    }\n",
       "\n",
       "    .dataframe thead th {\n",
       "        text-align: right;\n",
       "    }\n",
       "</style>\n",
       "<table border=\"1\" class=\"dataframe\">\n",
       "  <thead>\n",
       "    <tr style=\"text-align: right;\">\n",
       "      <th></th>\n",
       "      <th>county</th>\n",
       "      <th>is_business</th>\n",
       "      <th>product_type</th>\n",
       "      <th>target</th>\n",
       "      <th>is_consumption</th>\n",
       "      <th>datetime</th>\n",
       "      <th>data_block_id</th>\n",
       "      <th>row_id</th>\n",
       "      <th>prediction_unit_id</th>\n",
       "      <th>forecast_date</th>\n",
       "      <th>lowest_price_per_mwh</th>\n",
       "      <th>highest_price_per_mwh</th>\n",
       "      <th>origin_date</th>\n",
       "      <th>euros_per_mwh</th>\n",
       "    </tr>\n",
       "  </thead>\n",
       "  <tbody>\n",
       "    <tr>\n",
       "      <th>0</th>\n",
       "      <td>0</td>\n",
       "      <td>0</td>\n",
       "      <td>1</td>\n",
       "      <td>0.713</td>\n",
       "      <td>0</td>\n",
       "      <td>1.630469e+09</td>\n",
       "      <td>0</td>\n",
       "      <td>0</td>\n",
       "      <td>0</td>\n",
       "      <td>1.630555e+09</td>\n",
       "      <td>45.62</td>\n",
       "      <td>46.29</td>\n",
       "      <td>1.630469e+09</td>\n",
       "      <td>96.99</td>\n",
       "    </tr>\n",
       "    <tr>\n",
       "      <th>1</th>\n",
       "      <td>0</td>\n",
       "      <td>0</td>\n",
       "      <td>1</td>\n",
       "      <td>96.590</td>\n",
       "      <td>1</td>\n",
       "      <td>1.630469e+09</td>\n",
       "      <td>0</td>\n",
       "      <td>1</td>\n",
       "      <td>0</td>\n",
       "      <td>1.630555e+09</td>\n",
       "      <td>45.62</td>\n",
       "      <td>46.29</td>\n",
       "      <td>1.630469e+09</td>\n",
       "      <td>96.99</td>\n",
       "    </tr>\n",
       "    <tr>\n",
       "      <th>2</th>\n",
       "      <td>0</td>\n",
       "      <td>0</td>\n",
       "      <td>2</td>\n",
       "      <td>0.000</td>\n",
       "      <td>0</td>\n",
       "      <td>1.630469e+09</td>\n",
       "      <td>0</td>\n",
       "      <td>2</td>\n",
       "      <td>1</td>\n",
       "      <td>1.630555e+09</td>\n",
       "      <td>45.62</td>\n",
       "      <td>46.29</td>\n",
       "      <td>1.630469e+09</td>\n",
       "      <td>96.99</td>\n",
       "    </tr>\n",
       "    <tr>\n",
       "      <th>3</th>\n",
       "      <td>0</td>\n",
       "      <td>0</td>\n",
       "      <td>2</td>\n",
       "      <td>17.314</td>\n",
       "      <td>1</td>\n",
       "      <td>1.630469e+09</td>\n",
       "      <td>0</td>\n",
       "      <td>3</td>\n",
       "      <td>1</td>\n",
       "      <td>1.630555e+09</td>\n",
       "      <td>45.62</td>\n",
       "      <td>46.29</td>\n",
       "      <td>1.630469e+09</td>\n",
       "      <td>96.99</td>\n",
       "    </tr>\n",
       "    <tr>\n",
       "      <th>4</th>\n",
       "      <td>0</td>\n",
       "      <td>0</td>\n",
       "      <td>3</td>\n",
       "      <td>2.904</td>\n",
       "      <td>0</td>\n",
       "      <td>1.630469e+09</td>\n",
       "      <td>0</td>\n",
       "      <td>4</td>\n",
       "      <td>2</td>\n",
       "      <td>1.630555e+09</td>\n",
       "      <td>45.62</td>\n",
       "      <td>46.29</td>\n",
       "      <td>1.630469e+09</td>\n",
       "      <td>96.99</td>\n",
       "    </tr>\n",
       "    <tr>\n",
       "      <th>...</th>\n",
       "      <td>...</td>\n",
       "      <td>...</td>\n",
       "      <td>...</td>\n",
       "      <td>...</td>\n",
       "      <td>...</td>\n",
       "      <td>...</td>\n",
       "      <td>...</td>\n",
       "      <td>...</td>\n",
       "      <td>...</td>\n",
       "      <td>...</td>\n",
       "      <td>...</td>\n",
       "      <td>...</td>\n",
       "      <td>...</td>\n",
       "      <td>...</td>\n",
       "    </tr>\n",
       "    <tr>\n",
       "      <th>2008589</th>\n",
       "      <td>15</td>\n",
       "      <td>1</td>\n",
       "      <td>0</td>\n",
       "      <td>163.077</td>\n",
       "      <td>1</td>\n",
       "      <td>1.685333e+09</td>\n",
       "      <td>635</td>\n",
       "      <td>2009117</td>\n",
       "      <td>64</td>\n",
       "      <td>1.685419e+09</td>\n",
       "      <td>29.00</td>\n",
       "      <td>34.00</td>\n",
       "      <td>1.685333e+09</td>\n",
       "      <td>8.57</td>\n",
       "    </tr>\n",
       "    <tr>\n",
       "      <th>2008590</th>\n",
       "      <td>15</td>\n",
       "      <td>1</td>\n",
       "      <td>1</td>\n",
       "      <td>0.000</td>\n",
       "      <td>0</td>\n",
       "      <td>1.685333e+09</td>\n",
       "      <td>635</td>\n",
       "      <td>2009118</td>\n",
       "      <td>59</td>\n",
       "      <td>1.685419e+09</td>\n",
       "      <td>29.00</td>\n",
       "      <td>34.00</td>\n",
       "      <td>1.685333e+09</td>\n",
       "      <td>8.57</td>\n",
       "    </tr>\n",
       "    <tr>\n",
       "      <th>2008591</th>\n",
       "      <td>15</td>\n",
       "      <td>1</td>\n",
       "      <td>1</td>\n",
       "      <td>33.713</td>\n",
       "      <td>1</td>\n",
       "      <td>1.685333e+09</td>\n",
       "      <td>635</td>\n",
       "      <td>2009119</td>\n",
       "      <td>59</td>\n",
       "      <td>1.685419e+09</td>\n",
       "      <td>29.00</td>\n",
       "      <td>34.00</td>\n",
       "      <td>1.685333e+09</td>\n",
       "      <td>8.57</td>\n",
       "    </tr>\n",
       "    <tr>\n",
       "      <th>2008592</th>\n",
       "      <td>15</td>\n",
       "      <td>1</td>\n",
       "      <td>3</td>\n",
       "      <td>0.000</td>\n",
       "      <td>0</td>\n",
       "      <td>1.685333e+09</td>\n",
       "      <td>635</td>\n",
       "      <td>2009120</td>\n",
       "      <td>60</td>\n",
       "      <td>1.685419e+09</td>\n",
       "      <td>29.00</td>\n",
       "      <td>34.00</td>\n",
       "      <td>1.685333e+09</td>\n",
       "      <td>8.57</td>\n",
       "    </tr>\n",
       "    <tr>\n",
       "      <th>2008593</th>\n",
       "      <td>15</td>\n",
       "      <td>1</td>\n",
       "      <td>3</td>\n",
       "      <td>153.666</td>\n",
       "      <td>1</td>\n",
       "      <td>1.685333e+09</td>\n",
       "      <td>635</td>\n",
       "      <td>2009121</td>\n",
       "      <td>60</td>\n",
       "      <td>1.685419e+09</td>\n",
       "      <td>29.00</td>\n",
       "      <td>34.00</td>\n",
       "      <td>1.685333e+09</td>\n",
       "      <td>8.57</td>\n",
       "    </tr>\n",
       "  </tbody>\n",
       "</table>\n",
       "<p>83838 rows × 14 columns</p>\n",
       "</div>"
      ],
      "text/plain": [
       "         county  is_business  product_type   target  is_consumption  \\\n",
       "0             0            0             1    0.713               0   \n",
       "1             0            0             1   96.590               1   \n",
       "2             0            0             2    0.000               0   \n",
       "3             0            0             2   17.314               1   \n",
       "4             0            0             3    2.904               0   \n",
       "...         ...          ...           ...      ...             ...   \n",
       "2008589      15            1             0  163.077               1   \n",
       "2008590      15            1             1    0.000               0   \n",
       "2008591      15            1             1   33.713               1   \n",
       "2008592      15            1             3    0.000               0   \n",
       "2008593      15            1             3  153.666               1   \n",
       "\n",
       "             datetime  data_block_id   row_id  prediction_unit_id  \\\n",
       "0        1.630469e+09              0        0                   0   \n",
       "1        1.630469e+09              0        1                   0   \n",
       "2        1.630469e+09              0        2                   1   \n",
       "3        1.630469e+09              0        3                   1   \n",
       "4        1.630469e+09              0        4                   2   \n",
       "...               ...            ...      ...                 ...   \n",
       "2008589  1.685333e+09            635  2009117                  64   \n",
       "2008590  1.685333e+09            635  2009118                  59   \n",
       "2008591  1.685333e+09            635  2009119                  59   \n",
       "2008592  1.685333e+09            635  2009120                  60   \n",
       "2008593  1.685333e+09            635  2009121                  60   \n",
       "\n",
       "         forecast_date  lowest_price_per_mwh  highest_price_per_mwh  \\\n",
       "0         1.630555e+09                 45.62                  46.29   \n",
       "1         1.630555e+09                 45.62                  46.29   \n",
       "2         1.630555e+09                 45.62                  46.29   \n",
       "3         1.630555e+09                 45.62                  46.29   \n",
       "4         1.630555e+09                 45.62                  46.29   \n",
       "...                ...                   ...                    ...   \n",
       "2008589   1.685419e+09                 29.00                  34.00   \n",
       "2008590   1.685419e+09                 29.00                  34.00   \n",
       "2008591   1.685419e+09                 29.00                  34.00   \n",
       "2008592   1.685419e+09                 29.00                  34.00   \n",
       "2008593   1.685419e+09                 29.00                  34.00   \n",
       "\n",
       "          origin_date  euros_per_mwh  \n",
       "0        1.630469e+09          96.99  \n",
       "1        1.630469e+09          96.99  \n",
       "2        1.630469e+09          96.99  \n",
       "3        1.630469e+09          96.99  \n",
       "4        1.630469e+09          96.99  \n",
       "...               ...            ...  \n",
       "2008589  1.685333e+09           8.57  \n",
       "2008590  1.685333e+09           8.57  \n",
       "2008591  1.685333e+09           8.57  \n",
       "2008592  1.685333e+09           8.57  \n",
       "2008593  1.685333e+09           8.57  \n",
       "\n",
       "[83838 rows x 14 columns]"
      ]
     },
     "execution_count": 16,
     "metadata": {},
     "output_type": "execute_result"
    }
   ],
   "source": [
    "df.dropna()"
   ]
  },
  {
   "cell_type": "code",
   "execution_count": 17,
   "id": "b2421dd1",
   "metadata": {},
   "outputs": [],
   "source": [
    "df = df.merge(forecast_weather, on=['data_block_id','forecast_date'],how='left')"
   ]
  },
  {
   "cell_type": "code",
   "execution_count": 18,
   "id": "9a7d666c",
   "metadata": {},
   "outputs": [
    {
     "data": {
      "text/plain": [
       "-68400.0    5672576\n",
       "-64800.0    3717280\n",
       "dtype: int64"
      ]
     },
     "execution_count": 18,
     "metadata": {},
     "output_type": "execute_result"
    }
   ],
   "source": [
    "(df['origin_date_x']-df['origin_date_y']).value_counts()"
   ]
  },
  {
   "cell_type": "code",
   "execution_count": 19,
   "id": "2947ca86",
   "metadata": {},
   "outputs": [],
   "source": [
    "df = df.drop(columns=['origin_date_x','origin_date_y'])"
   ]
  },
  {
   "cell_type": "code",
   "execution_count": 20,
   "id": "98d44659",
   "metadata": {},
   "outputs": [],
   "source": [
    "#drop NaN rows\n",
    "df = df.dropna()"
   ]
  },
  {
   "cell_type": "code",
   "execution_count": 22,
   "id": "12f4292e",
   "metadata": {},
   "outputs": [],
   "source": [
    "#drop the target column and data_block_id as they are not present in test data\n",
    "X = df.drop(['target'], axis=1).rename(columns={'datetime': 'prediction_datetime'})"
   ]
  },
  {
   "cell_type": "code",
   "execution_count": 23,
   "id": "74494bb0",
   "metadata": {},
   "outputs": [
    {
     "data": {
      "text/plain": [
       "Index(['county', 'is_business', 'product_type', 'is_consumption',\n",
       "       'prediction_datetime', 'data_block_id', 'row_id', 'prediction_unit_id',\n",
       "       'forecast_date', 'lowest_price_per_mwh', 'highest_price_per_mwh',\n",
       "       'euros_per_mwh', 'latitude', 'longitude', 'hours_ahead', 'temperature',\n",
       "       'dewpoint', 'cloudcover_high', 'cloudcover_low', 'cloudcover_mid',\n",
       "       'cloudcover_total', '10_metre_u_wind_component',\n",
       "       '10_metre_v_wind_component', 'direct_solar_radiation',\n",
       "       'surface_solar_radiation_downwards', 'snowfall', 'total_precipitation'],\n",
       "      dtype='object')"
      ]
     },
     "execution_count": 23,
     "metadata": {},
     "output_type": "execute_result"
    }
   ],
   "source": [
    "X.columns"
   ]
  },
  {
   "cell_type": "code",
   "execution_count": 24,
   "id": "02f62918",
   "metadata": {},
   "outputs": [],
   "source": [
    "#set the target variable\n",
    "y = df['target']"
   ]
  },
  {
   "cell_type": "code",
   "execution_count": 25,
   "id": "e285440c",
   "metadata": {},
   "outputs": [
    {
     "data": {
      "text/plain": [
       "False"
      ]
     },
     "execution_count": 25,
     "metadata": {},
     "output_type": "execute_result"
    }
   ],
   "source": [
    "#verify there are no NaN's\n",
    "np.any(np.isnan(y))"
   ]
  },
  {
   "cell_type": "code",
   "execution_count": 26,
   "id": "94ec114a",
   "metadata": {},
   "outputs": [],
   "source": [
    "# load the modeling modules from sklearn\n",
    "from sklearn.ensemble import RandomForestRegressor\n",
    "from sklearn.metrics import accuracy_score, confusion_matrix, precision_score, recall_score, ConfusionMatrixDisplay\n",
    "from sklearn.model_selection import RandomizedSearchCV, train_test_split\n",
    "from scipy.stats import randint\n",
    "from sklearn.metrics import mean_absolute_error"
   ]
  },
  {
   "cell_type": "code",
   "execution_count": 27,
   "id": "075b3c42",
   "metadata": {},
   "outputs": [],
   "source": [
    "# Split the data into training and test sets\n",
    "X_train, X_test, y_train, y_test = train_test_split(X, y, test_size=0.2)"
   ]
  },
  {
   "cell_type": "code",
   "execution_count": 28,
   "id": "532e08a5",
   "metadata": {},
   "outputs": [],
   "source": [
    "#create a multivariable linear regression\n",
    "from sklearn import linear_model\n",
    "regr = linear_model.LinearRegression()\n",
    "regr.fit(X_train, y_train)\n",
    "regr.feature_names = list(X_train.columns.values)"
   ]
  },
  {
   "cell_type": "code",
   "execution_count": 29,
   "id": "3e55b0d7",
   "metadata": {},
   "outputs": [],
   "source": [
    "#predict on the test data\n",
    "lin_pred = regr.predict(X_test)"
   ]
  },
  {
   "cell_type": "code",
   "execution_count": 30,
   "id": "4af13646",
   "metadata": {},
   "outputs": [
    {
     "data": {
      "text/plain": [
       "287.75679632595796"
      ]
     },
     "execution_count": 30,
     "metadata": {},
     "output_type": "execute_result"
    }
   ],
   "source": [
    "mean_absolute_error(lin_pred,y_test)"
   ]
  },
  {
   "cell_type": "code",
   "execution_count": 31,
   "id": "14ec772d",
   "metadata": {},
   "outputs": [],
   "source": [
    "#train the random forest regressor\n",
    "rf = RandomForestRegressor(n_estimators=1)\n",
    "rf.fit(X_train, y_train)\n",
    "rf.feature_names = list(X_train.columns.values)"
   ]
  },
  {
   "cell_type": "code",
   "execution_count": 32,
   "id": "55cfd590",
   "metadata": {},
   "outputs": [],
   "source": [
    "#predict the target values using the random forest regressor\n",
    "rf_pred = rf.predict(X_test)"
   ]
  },
  {
   "cell_type": "code",
   "execution_count": 33,
   "id": "05778cfe",
   "metadata": {},
   "outputs": [
    {
     "data": {
      "text/plain": [
       "0.1559591809676255"
      ]
     },
     "execution_count": 33,
     "metadata": {},
     "output_type": "execute_result"
    }
   ],
   "source": [
    "#mean absolute error for random regressor\n",
    "mean_absolute_error(y_test,rf_pred)"
   ]
  },
  {
   "cell_type": "code",
   "execution_count": 34,
   "id": "9fdcf08a",
   "metadata": {},
   "outputs": [
    {
     "name": "stdout",
     "output_type": "stream",
     "text": [
      "273.4827216079995\n",
      "285.00468175480364\n",
      "269.84207813612034\n",
      "297.5972492682266\n",
      "309.99922880975254\n"
     ]
    }
   ],
   "source": [
    "#perform k-fold cross-validation\n",
    "from sklearn.model_selection import KFold\n",
    "kf = KFold(n_splits=5)\n",
    "\n",
    "for train_index, test_index in kf.split(X):\n",
    "    X_train, X_test = X.iloc[train_index], X.iloc[test_index]\n",
    "    y_train, y_test = y.iloc[train_index], y.iloc[test_index]\n",
    "    \n",
    "    #train the model\n",
    "    lin_regr = linear_model.LinearRegression()\n",
    "    lin_regr.fit(X_train, y_train)\n",
    "    #predict on the test data\n",
    "    lin_pred = regr.predict(X_test)\n",
    "    #evaluate the model\n",
    "    print(mean_absolute_error(lin_pred,y_test))"
   ]
  },
  {
   "cell_type": "code",
   "execution_count": 36,
   "id": "2b9606be",
   "metadata": {},
   "outputs": [],
   "source": [
    "import pickle\n",
    "# save the linear model to disk\n",
    "linear_filename = '../models/linear_model.sav'\n",
    "pickle.dump(regr, open(linear_filename, 'wb'))\n",
    "random_forest_filename = '../models/random_forest_model.sav'\n",
    "pickle.dump(rf, open(random_forest_filename, 'wb'))"
   ]
  },
  {
   "cell_type": "code",
   "execution_count": null,
   "id": "ed4009fb",
   "metadata": {},
   "outputs": [],
   "source": []
  }
 ],
 "metadata": {
  "kernelspec": {
   "display_name": "Python 3 (ipykernel)",
   "language": "python",
   "name": "python3"
  },
  "language_info": {
   "codemirror_mode": {
    "name": "ipython",
    "version": 3
   },
   "file_extension": ".py",
   "mimetype": "text/x-python",
   "name": "python",
   "nbconvert_exporter": "python",
   "pygments_lexer": "ipython3",
   "version": "3.8.12"
  }
 },
 "nbformat": 4,
 "nbformat_minor": 5
}
