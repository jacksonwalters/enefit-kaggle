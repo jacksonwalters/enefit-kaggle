{
 "cells": [
  {
   "cell_type": "code",
   "execution_count": 1,
   "id": "171cf90b",
   "metadata": {},
   "outputs": [
    {
     "name": "stdout",
     "output_type": "stream",
     "text": [
      "client.csv                            gas_prices.csv\r\n",
      "county_id_to_name_map.json            historical_weather.csv\r\n",
      "electricity_prices.csv                public_timeseries_testing_util.py\r\n",
      "\u001b[34menefit\u001b[m\u001b[m                                train.csv\r\n",
      "\u001b[34mexample_test_files\u001b[m\u001b[m                    weather_station_to_county_mapping.csv\r\n",
      "forecast_weather.csv\r\n"
     ]
    }
   ],
   "source": [
    "import os\n",
    "os.chdir(\"/Users/jacksonwalters/Documents/GitHub/enefit-kaggle/predict-energy-behavior-of-prosumers/\")\n",
    "!ls"
   ]
  },
  {
   "cell_type": "code",
   "execution_count": 3,
   "id": "b41de2ea",
   "metadata": {},
   "outputs": [],
   "source": [
    "import pandas as pd\n",
    "import numpy as np\n",
    "from load_data import merged_df"
   ]
  },
  {
   "cell_type": "code",
   "execution_count": 34,
   "id": "aa1569b5",
   "metadata": {},
   "outputs": [
    {
     "name": "stdout",
     "output_type": "stream",
     "text": [
      "2.8.0\n"
     ]
    }
   ],
   "source": [
    "import matplotlib.pyplot as plt\n",
    "import tensorflow as tf\n",
    "from tensorflow import keras\n",
    "from tensorflow.keras import layers\n",
    "\n",
    "print(tf.__version__)\n"
   ]
  },
  {
   "cell_type": "code",
   "execution_count": 4,
   "id": "e181bcca",
   "metadata": {},
   "outputs": [
    {
     "name": "stdout",
     "output_type": "stream",
     "text": [
      "loading train data...\n",
      "loading gas_prices...\n",
      "loading electricity_prices...\n",
      "loading forecast_weather...\n",
      "merging train and gas_prices...\n",
      "merging electricity_prices...\n",
      "merging forecast_weather...\n"
     ]
    }
   ],
   "source": [
    "df = merged_df()"
   ]
  },
  {
   "cell_type": "code",
   "execution_count": 24,
   "id": "90e72f71",
   "metadata": {},
   "outputs": [],
   "source": [
    "df = df[:100_000]"
   ]
  },
  {
   "cell_type": "code",
   "execution_count": 25,
   "id": "c5ea6ad4",
   "metadata": {},
   "outputs": [],
   "source": [
    "#test/train split\n",
    "train_dataset = df.sample(frac=0.8, random_state=0)\n",
    "test_dataset = df.drop(train_dataset.index)"
   ]
  },
  {
   "cell_type": "code",
   "execution_count": 26,
   "id": "8bcd4683",
   "metadata": {},
   "outputs": [],
   "source": [
    "#drop the target column \n",
    "train_labels = train_dataset['target']\n",
    "test_labels = test_dataset['target']\n",
    "\n",
    "train_features = train_dataset.drop(columns=['target'])\n",
    "test_features = test_dataset.drop(columns=['target'])"
   ]
  },
  {
   "cell_type": "code",
   "execution_count": 27,
   "id": "09520115",
   "metadata": {},
   "outputs": [],
   "source": [
    "normalizer = tf.keras.layers.Normalization(axis=-1)"
   ]
  },
  {
   "cell_type": "code",
   "execution_count": 28,
   "id": "e6f37a6f",
   "metadata": {},
   "outputs": [
    {
     "name": "stderr",
     "output_type": "stream",
     "text": [
      "2023-12-16 13:02:57.754671: I tensorflow/core/grappler/optimizers/custom_graph_optimizer_registry.cc:113] Plugin optimizer for device_type GPU is enabled.\n",
      "2023-12-16 13:02:57.768400: I tensorflow/core/grappler/optimizers/custom_graph_optimizer_registry.cc:113] Plugin optimizer for device_type GPU is enabled.\n"
     ]
    }
   ],
   "source": [
    "normalizer.adapt(np.array(train_features))"
   ]
  },
  {
   "cell_type": "code",
   "execution_count": 29,
   "id": "6b758a46",
   "metadata": {},
   "outputs": [
    {
     "name": "stdout",
     "output_type": "stream",
     "text": [
      "First example: [[ 4.00e+00  0.00e+00  1.00e+00  1.00e+00  1.63e+09  1.00e+00  2.96e+03\n",
      "   1.50e+01  1.63e+09  4.56e+01  4.63e+01  9.70e+01  5.97e+01  2.77e+01\n",
      "   1.26e+01  7.03e+00  0.00e+00  2.13e-01  8.94e-02  2.29e-01  2.20e+00\n",
      "  -1.07e+01  8.52e-05]]\n",
      "\n",
      "Normalized: [[-0.67 -1.01 -0.94  1.   -1.5  -1.5  -1.5  -0.79 -1.5  -1.31 -1.23  0.15\n",
      "   1.53  1.36  0.41 -0.26 -0.54  0.13 -0.74 -0.68 -0.69 -2.28  0.27]]\n"
     ]
    }
   ],
   "source": [
    "first = np.array(train_features[:1])\n",
    "\n",
    "with np.printoptions(precision=2, suppress=True):\n",
    "  print('First example:', first)\n",
    "  print()\n",
    "  print('Normalized:', normalizer(first).numpy())"
   ]
  },
  {
   "cell_type": "code",
   "execution_count": 30,
   "id": "541e8864",
   "metadata": {},
   "outputs": [
    {
     "data": {
      "text/plain": [
       "Index(['county', 'is_business', 'product_type', 'is_consumption',\n",
       "       'prediction_datetime', 'data_block_id', 'row_id', 'prediction_unit_id',\n",
       "       'forecast_date', 'lowest_price_per_mwh', 'highest_price_per_mwh',\n",
       "       'euros_per_mwh', 'latitude', 'longitude', 'temperature', 'dewpoint',\n",
       "       'cloudcover_high', 'cloudcover_low', 'cloudcover_mid',\n",
       "       'cloudcover_total', '10_metre_u_wind_component',\n",
       "       '10_metre_v_wind_component', 'total_precipitation'],\n",
       "      dtype='object')"
      ]
     },
     "execution_count": 30,
     "metadata": {},
     "output_type": "execute_result"
    }
   ],
   "source": [
    "train_features.columns"
   ]
  },
  {
   "cell_type": "code",
   "execution_count": 35,
   "id": "4af474d0",
   "metadata": {},
   "outputs": [
    {
     "name": "stderr",
     "output_type": "stream",
     "text": [
      "2023-12-16 13:07:13.130870: I tensorflow/core/grappler/optimizers/custom_graph_optimizer_registry.cc:113] Plugin optimizer for device_type GPU is enabled.\n",
      "2023-12-16 13:07:13.143040: I tensorflow/core/grappler/optimizers/custom_graph_optimizer_registry.cc:113] Plugin optimizer for device_type GPU is enabled.\n"
     ]
    }
   ],
   "source": [
    "prediction_datetime = np.array(train_features['prediction_datetime'])\n",
    "\n",
    "prediction_datetime_normalizer = layers.Normalization(input_shape=[1,], axis=None)\n",
    "prediction_datetime_normalizer.adapt(prediction_datetime)"
   ]
  },
  {
   "cell_type": "code",
   "execution_count": 36,
   "id": "d8cbe077",
   "metadata": {},
   "outputs": [
    {
     "name": "stdout",
     "output_type": "stream",
     "text": [
      "Model: \"sequential\"\n",
      "_________________________________________________________________\n",
      " Layer (type)                Output Shape              Param #   \n",
      "=================================================================\n",
      " normalization_2 (Normalizat  (None, 1)                3         \n",
      " ion)                                                            \n",
      "                                                                 \n",
      " dense (Dense)               (None, 1)                 2         \n",
      "                                                                 \n",
      "=================================================================\n",
      "Total params: 5\n",
      "Trainable params: 2\n",
      "Non-trainable params: 3\n",
      "_________________________________________________________________\n"
     ]
    }
   ],
   "source": [
    "prediction_datetime_model = tf.keras.Sequential([\n",
    "    prediction_datetime_normalizer,\n",
    "    layers.Dense(units=1)\n",
    "])\n",
    "\n",
    "prediction_datetime_model.summary()"
   ]
  },
  {
   "cell_type": "code",
   "execution_count": 37,
   "id": "6bbe98ff",
   "metadata": {},
   "outputs": [
    {
     "name": "stderr",
     "output_type": "stream",
     "text": [
      "2023-12-16 13:08:31.261344: I tensorflow/core/grappler/optimizers/custom_graph_optimizer_registry.cc:113] Plugin optimizer for device_type GPU is enabled.\n"
     ]
    },
    {
     "data": {
      "text/plain": [
       "array([[ 0.17491405],\n",
       "       [-0.04474546],\n",
       "       [ 0.01008807],\n",
       "       [ 0.11991782],\n",
       "       [ 0.17491405],\n",
       "       [ 0.01008807],\n",
       "       [-0.15457521],\n",
       "       [ 0.17491405],\n",
       "       [-0.04474546],\n",
       "       [ 0.01008807]], dtype=float32)"
      ]
     },
     "execution_count": 37,
     "metadata": {},
     "output_type": "execute_result"
    }
   ],
   "source": [
    "prediction_datetime_model.predict(prediction_datetime[:10])"
   ]
  },
  {
   "cell_type": "code",
   "execution_count": 38,
   "id": "be745c2c",
   "metadata": {},
   "outputs": [],
   "source": [
    "prediction_datetime_model.compile(\n",
    "    optimizer=tf.keras.optimizers.Adam(learning_rate=0.1),\n",
    "    loss='mean_absolute_error')"
   ]
  },
  {
   "cell_type": "code",
   "execution_count": 81,
   "id": "1c303566",
   "metadata": {},
   "outputs": [
    {
     "name": "stdout",
     "output_type": "stream",
     "text": [
      "Epoch 1/3\n",
      "2000/2000 [==============================] - 9s 4ms/step - loss: 158.8768 - val_loss: 161.5793\n",
      "Epoch 2/3\n",
      "2000/2000 [==============================] - 9s 4ms/step - loss: 158.8746 - val_loss: 161.5427\n",
      "Epoch 3/3\n",
      "2000/2000 [==============================] - 9s 4ms/step - loss: 158.8784 - val_loss: 161.5459\n",
      "CPU times: user 22.1 s, sys: 7.71 s, total: 29.8 s\n",
      "Wall time: 25.9 s\n"
     ]
    }
   ],
   "source": [
    "%%time\n",
    "history = prediction_datetime_model.fit(\n",
    "    train_features['prediction_datetime'],\n",
    "    train_labels,\n",
    "    epochs=3,\n",
    "    # Suppress logging.\n",
    "    verbose=1,\n",
    "    # Calculate validation results on 20% of the training data.\n",
    "    validation_split = 0.2)"
   ]
  },
  {
   "cell_type": "code",
   "execution_count": 82,
   "id": "57438e26",
   "metadata": {},
   "outputs": [
    {
     "data": {
      "text/html": [
       "<div>\n",
       "<style scoped>\n",
       "    .dataframe tbody tr th:only-of-type {\n",
       "        vertical-align: middle;\n",
       "    }\n",
       "\n",
       "    .dataframe tbody tr th {\n",
       "        vertical-align: top;\n",
       "    }\n",
       "\n",
       "    .dataframe thead th {\n",
       "        text-align: right;\n",
       "    }\n",
       "</style>\n",
       "<table border=\"1\" class=\"dataframe\">\n",
       "  <thead>\n",
       "    <tr style=\"text-align: right;\">\n",
       "      <th></th>\n",
       "      <th>loss</th>\n",
       "      <th>val_loss</th>\n",
       "      <th>epoch</th>\n",
       "    </tr>\n",
       "  </thead>\n",
       "  <tbody>\n",
       "    <tr>\n",
       "      <th>0</th>\n",
       "      <td>158.876785</td>\n",
       "      <td>161.579269</td>\n",
       "      <td>0</td>\n",
       "    </tr>\n",
       "    <tr>\n",
       "      <th>1</th>\n",
       "      <td>158.874619</td>\n",
       "      <td>161.542679</td>\n",
       "      <td>1</td>\n",
       "    </tr>\n",
       "    <tr>\n",
       "      <th>2</th>\n",
       "      <td>158.878357</td>\n",
       "      <td>161.545944</td>\n",
       "      <td>2</td>\n",
       "    </tr>\n",
       "  </tbody>\n",
       "</table>\n",
       "</div>"
      ],
      "text/plain": [
       "         loss    val_loss  epoch\n",
       "0  158.876785  161.579269      0\n",
       "1  158.874619  161.542679      1\n",
       "2  158.878357  161.545944      2"
      ]
     },
     "execution_count": 82,
     "metadata": {},
     "output_type": "execute_result"
    }
   ],
   "source": [
    "hist = pd.DataFrame(history.history)\n",
    "hist['epoch'] = history.epoch\n",
    "hist.tail()"
   ]
  },
  {
   "cell_type": "code",
   "execution_count": 76,
   "id": "86465cb5",
   "metadata": {},
   "outputs": [],
   "source": [
    "def plot_loss(history):\n",
    "  plt.plot(history.history['loss'], label='loss')\n",
    "  plt.plot(history.history['val_loss'], label='val_loss')\n",
    "  plt.ylim([0, 200])\n",
    "  plt.xlabel('Epoch')\n",
    "  plt.ylabel('Error [target]')\n",
    "  plt.legend()\n",
    "  plt.grid(True)"
   ]
  },
  {
   "cell_type": "code",
   "execution_count": 83,
   "id": "735e1d66",
   "metadata": {},
   "outputs": [
    {
     "data": {
      "image/png": "[encoded data removed]",
      "text/plain": [
       "<Figure size 432x288 with 1 Axes>"
      ]
     },
     "metadata": {
      "needs_background": "light"
     },
     "output_type": "display_data"
    }
   ],
   "source": [
    "plot_loss(history)"
   ]
  },
  {
   "cell_type": "code",
   "execution_count": 59,
   "id": "af676d93",
   "metadata": {},
   "outputs": [],
   "source": [
    "test_results = {}\n",
    "\n",
    "test_results['prediction_datetime_model'] = prediction_datetime_model.evaluate(\n",
    "    test_features['prediction_datetime'],\n",
    "    test_labels, verbose=0)"
   ]
  },
  {
   "cell_type": "code",
   "execution_count": 67,
   "id": "f20274f6",
   "metadata": {},
   "outputs": [
    {
     "name": "stderr",
     "output_type": "stream",
     "text": [
      "2023-12-16 13:18:03.489971: I tensorflow/core/grappler/optimizers/custom_graph_optimizer_registry.cc:113] Plugin optimizer for device_type GPU is enabled.\n"
     ]
    }
   ],
   "source": [
    "x = tf.linspace(min(df['prediction_datetime']), max(df['prediction_datetime']), 100_000)\n",
    "y = prediction_datetime_model.predict(x)"
   ]
  },
  {
   "cell_type": "code",
   "execution_count": 62,
   "id": "4dfdb98d",
   "metadata": {},
   "outputs": [],
   "source": [
    "def plot_prediction_datetime(x, y):\n",
    "  plt.scatter(train_features['prediction_datetime'], train_labels, label='Data')\n",
    "  plt.plot(x, y, color='k', label='Predictions')\n",
    "  plt.xlabel('prediction_datetime')\n",
    "  plt.ylabel('target')\n",
    "  plt.legend()"
   ]
  },
  {
   "cell_type": "code",
   "execution_count": 68,
   "id": "2a731b40",
   "metadata": {},
   "outputs": [
    {
     "data": {
      "image/png": "[encoded data removed]",
      "text/plain": [
       "<Figure size 432x288 with 1 Axes>"
      ]
     },
     "metadata": {
      "needs_background": "light"
     },
     "output_type": "display_data"
    }
   ],
   "source": [
    "plot_prediction_datetime(x, y)"
   ]
  },
  {
   "cell_type": "code",
   "execution_count": 69,
   "id": "2d29e4dd",
   "metadata": {},
   "outputs": [],
   "source": [
    "#initalize a linear model with multiple variables\n",
    "linear_model = tf.keras.Sequential([\n",
    "    normalizer,\n",
    "    layers.Dense(units=1)\n",
    "])"
   ]
  },
  {
   "cell_type": "code",
   "execution_count": 70,
   "id": "4db4f55c",
   "metadata": {},
   "outputs": [
    {
     "name": "stderr",
     "output_type": "stream",
     "text": [
      "2023-12-16 13:20:04.052159: I tensorflow/core/grappler/optimizers/custom_graph_optimizer_registry.cc:113] Plugin optimizer for device_type GPU is enabled.\n"
     ]
    },
    {
     "data": {
      "text/plain": [
       "array([[-1.8305392 ],\n",
       "       [ 0.94154537],\n",
       "       [ 0.56011504],\n",
       "       [-0.01794962],\n",
       "       [-1.2933463 ],\n",
       "       [ 1.0016675 ],\n",
       "       [ 0.43741804],\n",
       "       [-0.13658412],\n",
       "       [ 0.8922932 ],\n",
       "       [-0.8714205 ]], dtype=float32)"
      ]
     },
     "execution_count": 70,
     "metadata": {},
     "output_type": "execute_result"
    }
   ],
   "source": [
    "linear_model.predict(train_features[:10])"
   ]
  },
  {
   "cell_type": "code",
   "execution_count": 71,
   "id": "8c77f746",
   "metadata": {},
   "outputs": [
    {
     "data": {
      "text/plain": [
       "<tf.Variable 'dense_1/kernel:0' shape=(23, 1) dtype=float32, numpy=\n",
       "array([[-0.0335803 ],\n",
       "       [-0.063766  ],\n",
       "       [ 0.02608466],\n",
       "       [ 0.00498104],\n",
       "       [ 0.49331295],\n",
       "       [ 0.4149927 ],\n",
       "       [-0.4322486 ],\n",
       "       [ 0.45093858],\n",
       "       [ 0.04843426],\n",
       "       [-0.09107506],\n",
       "       [ 0.10054481],\n",
       "       [-0.47092497],\n",
       "       [-0.24409223],\n",
       "       [-0.27260303],\n",
       "       [-0.10152125],\n",
       "       [-0.2858603 ],\n",
       "       [-0.11807334],\n",
       "       [-0.17977631],\n",
       "       [ 0.05709934],\n",
       "       [ 0.15478528],\n",
       "       [ 0.15475929],\n",
       "       [-0.12086391],\n",
       "       [-0.10384119]], dtype=float32)>"
      ]
     },
     "execution_count": 71,
     "metadata": {},
     "output_type": "execute_result"
    }
   ],
   "source": [
    "linear_model.layers[1].kernel"
   ]
  },
  {
   "cell_type": "code",
   "execution_count": 72,
   "id": "3626328b",
   "metadata": {},
   "outputs": [],
   "source": [
    "linear_model.compile(\n",
    "    optimizer=tf.keras.optimizers.Adam(learning_rate=0.1),\n",
    "    loss='mean_absolute_error')"
   ]
  },
  {
   "cell_type": "code",
   "execution_count": 84,
   "id": "26bc0752",
   "metadata": {},
   "outputs": [
    {
     "name": "stdout",
     "output_type": "stream",
     "text": [
      "Epoch 1/3\n",
      "2000/2000 [==============================] - 9s 4ms/step - loss: 145.6714 - val_loss: 148.1907\n",
      "Epoch 2/3\n",
      "2000/2000 [==============================] - 9s 4ms/step - loss: 145.6608 - val_loss: 148.1837\n",
      "Epoch 3/3\n",
      "2000/2000 [==============================] - 9s 4ms/step - loss: 145.6639 - val_loss: 148.0331\n",
      "CPU times: user 22.3 s, sys: 7.75 s, total: 30 s\n",
      "Wall time: 26.2 s\n"
     ]
    }
   ],
   "source": [
    "%%time\n",
    "history = linear_model.fit(\n",
    "    train_features,\n",
    "    train_labels,\n",
    "    epochs=3,\n",
    "    # Suppress logging.\n",
    "    verbose=1,\n",
    "    # Calculate validation results on 20% of the training data.\n",
    "    validation_split = 0.2)"
   ]
  },
  {
   "cell_type": "code",
   "execution_count": 85,
   "id": "18c2091e",
   "metadata": {},
   "outputs": [
    {
     "data": {
      "image/png": "[encoded data removed]",
      "text/plain": [
       "<Figure size 432x288 with 1 Axes>"
      ]
     },
     "metadata": {
      "needs_background": "light"
     },
     "output_type": "display_data"
    }
   ],
   "source": [
    "plot_loss(history)"
   ]
  },
  {
   "cell_type": "code",
   "execution_count": 86,
   "id": "8cbf94db",
   "metadata": {},
   "outputs": [],
   "source": [
    "test_results['linear_model'] = linear_model.evaluate(\n",
    "    test_features, test_labels, verbose=0)"
   ]
  },
  {
   "cell_type": "code",
   "execution_count": 87,
   "id": "6787c302",
   "metadata": {},
   "outputs": [],
   "source": [
    "#switch to deep learning"
   ]
  },
  {
   "cell_type": "code",
   "execution_count": 88,
   "id": "e4227401",
   "metadata": {},
   "outputs": [],
   "source": [
    "def build_and_compile_model(norm):\n",
    "  model = keras.Sequential([\n",
    "      norm,\n",
    "      layers.Dense(64, activation='relu'),\n",
    "      layers.Dense(64, activation='relu'),\n",
    "      layers.Dense(1)\n",
    "  ])\n",
    "\n",
    "  model.compile(loss='mean_absolute_error',\n",
    "                optimizer=tf.keras.optimizers.Adam(0.001))\n",
    "  return model"
   ]
  },
  {
   "cell_type": "code",
   "execution_count": 89,
   "id": "741fb6bb",
   "metadata": {},
   "outputs": [],
   "source": [
    "dnn_prediction_datetime_model = build_and_compile_model(prediction_datetime_normalizer)"
   ]
  },
  {
   "cell_type": "code",
   "execution_count": 90,
   "id": "f9f2690c",
   "metadata": {},
   "outputs": [
    {
     "name": "stdout",
     "output_type": "stream",
     "text": [
      "Model: \"sequential_2\"\n",
      "_________________________________________________________________\n",
      " Layer (type)                Output Shape              Param #   \n",
      "=================================================================\n",
      " normalization_2 (Normalizat  (None, 1)                3         \n",
      " ion)                                                            \n",
      "                                                                 \n",
      " dense_2 (Dense)             (None, 64)                128       \n",
      "                                                                 \n",
      " dense_3 (Dense)             (None, 64)                4160      \n",
      "                                                                 \n",
      " dense_4 (Dense)             (None, 1)                 65        \n",
      "                                                                 \n",
      "=================================================================\n",
      "Total params: 4,356\n",
      "Trainable params: 4,353\n",
      "Non-trainable params: 3\n",
      "_________________________________________________________________\n"
     ]
    }
   ],
   "source": [
    "dnn_prediction_datetime_model.summary()"
   ]
  },
  {
   "cell_type": "code",
   "execution_count": 92,
   "id": "3c4a08bd",
   "metadata": {},
   "outputs": [
    {
     "name": "stderr",
     "output_type": "stream",
     "text": [
      "2023-12-16 13:30:59.519893: I tensorflow/core/grappler/optimizers/custom_graph_optimizer_registry.cc:113] Plugin optimizer for device_type GPU is enabled.\n"
     ]
    },
    {
     "name": "stdout",
     "output_type": "stream",
     "text": [
      "1992/2000 [============================>.] - ETA: 0s - loss: 159.0435"
     ]
    },
    {
     "name": "stderr",
     "output_type": "stream",
     "text": [
      "2023-12-16 13:31:08.926953: I tensorflow/core/grappler/optimizers/custom_graph_optimizer_registry.cc:113] Plugin optimizer for device_type GPU is enabled.\n"
     ]
    },
    {
     "name": "stdout",
     "output_type": "stream",
     "text": [
      "2000/2000 [==============================] - 11s 5ms/step - loss: 158.8807 - val_loss: 161.5528\n",
      "CPU times: user 8.59 s, sys: 2.24 s, total: 10.8 s\n",
      "Wall time: 10.8 s\n"
     ]
    }
   ],
   "source": [
    "%%time\n",
    "history = dnn_prediction_datetime_model.fit(\n",
    "    train_features['prediction_datetime'],\n",
    "    train_labels,\n",
    "    validation_split=0.2,\n",
    "    verbose=1, epochs=1)"
   ]
  },
  {
   "cell_type": "code",
   "execution_count": 93,
   "id": "6fbf1e7c",
   "metadata": {},
   "outputs": [
    {
     "data": {
      "image/png": "[encoded data removed]",
      "text/plain": [
       "<Figure size 432x288 with 1 Axes>"
      ]
     },
     "metadata": {
      "needs_background": "light"
     },
     "output_type": "display_data"
    }
   ],
   "source": [
    "plot_loss(history)"
   ]
  },
  {
   "cell_type": "code",
   "execution_count": 95,
   "id": "73d0e587",
   "metadata": {},
   "outputs": [
    {
     "name": "stderr",
     "output_type": "stream",
     "text": [
      "2023-12-16 13:32:06.269751: I tensorflow/core/grappler/optimizers/custom_graph_optimizer_registry.cc:113] Plugin optimizer for device_type GPU is enabled.\n"
     ]
    }
   ],
   "source": [
    "x = tf.linspace(min(df['prediction_datetime']), max(df['prediction_datetime']), 100_000)\n",
    "y = dnn_prediction_datetime_model.predict(x)"
   ]
  },
  {
   "cell_type": "code",
   "execution_count": 96,
   "id": "75655930",
   "metadata": {},
   "outputs": [
    {
     "data": {
      "image/png": "[encoded data removed]",
      "text/plain": [
       "<Figure size 432x288 with 1 Axes>"
      ]
     },
     "metadata": {
      "needs_background": "light"
     },
     "output_type": "display_data"
    }
   ],
   "source": [
    "plot_prediction_datetime(x, y)"
   ]
  },
  {
   "cell_type": "code",
   "execution_count": 98,
   "id": "34f9f737",
   "metadata": {},
   "outputs": [
    {
     "name": "stdout",
     "output_type": "stream",
     "text": [
      "625/625 [==============================] - 2s 4ms/step - loss: 160.0013\n"
     ]
    }
   ],
   "source": [
    "test_results['dnn_prediction_datetime_model'] = dnn_prediction_datetime_model.evaluate(\n",
    "    test_features['prediction_datetime'], test_labels,\n",
    "    verbose=1)"
   ]
  },
  {
   "cell_type": "code",
   "execution_count": 100,
   "id": "18e7acec",
   "metadata": {},
   "outputs": [],
   "source": [
    "#build the full DNN on multiple inputs"
   ]
  },
  {
   "cell_type": "code",
   "execution_count": 99,
   "id": "cf03595b",
   "metadata": {},
   "outputs": [
    {
     "name": "stdout",
     "output_type": "stream",
     "text": [
      "Model: \"sequential_3\"\n",
      "_________________________________________________________________\n",
      " Layer (type)                Output Shape              Param #   \n",
      "=================================================================\n",
      " normalization_1 (Normalizat  (None, 23)               47        \n",
      " ion)                                                            \n",
      "                                                                 \n",
      " dense_5 (Dense)             (None, 64)                1536      \n",
      "                                                                 \n",
      " dense_6 (Dense)             (None, 64)                4160      \n",
      "                                                                 \n",
      " dense_7 (Dense)             (None, 1)                 65        \n",
      "                                                                 \n",
      "=================================================================\n",
      "Total params: 5,808\n",
      "Trainable params: 5,761\n",
      "Non-trainable params: 47\n",
      "_________________________________________________________________\n"
     ]
    }
   ],
   "source": [
    "dnn_model = build_and_compile_model(normalizer)\n",
    "dnn_model.summary()"
   ]
  },
  {
   "cell_type": "code",
   "execution_count": 105,
   "id": "7e45f95b",
   "metadata": {},
   "outputs": [
    {
     "name": "stdout",
     "output_type": "stream",
     "text": [
      "Epoch 1/2\n",
      "2000/2000 [==============================] - 10s 5ms/step - loss: 124.8935 - val_loss: 124.4837\n",
      "Epoch 2/2\n",
      "2000/2000 [==============================] - 10s 5ms/step - loss: 121.2694 - val_loss: 120.1958\n",
      "CPU times: user 16.6 s, sys: 4.33 s, total: 20.9 s\n",
      "Wall time: 19.6 s\n"
     ]
    }
   ],
   "source": [
    "%%time\n",
    "history = dnn_model.fit(\n",
    "    train_features,\n",
    "    train_labels,\n",
    "    validation_split=0.2,\n",
    "    verbose=1, epochs=2)"
   ]
  },
  {
   "cell_type": "code",
   "execution_count": 106,
   "id": "ffc52575",
   "metadata": {},
   "outputs": [
    {
     "data": {
      "image/png": "[encoded data removed]",
      "text/plain": [
       "<Figure size 432x288 with 1 Axes>"
      ]
     },
     "metadata": {
      "needs_background": "light"
     },
     "output_type": "display_data"
    }
   ],
   "source": [
    "plot_loss(history)"
   ]
  },
  {
   "cell_type": "code",
   "execution_count": 107,
   "id": "ad8ba447",
   "metadata": {},
   "outputs": [
    {
     "name": "stdout",
     "output_type": "stream",
     "text": [
      "625/625 [==============================] - 2s 4ms/step - loss: 120.1335\n"
     ]
    }
   ],
   "source": [
    "test_results['dnn_model'] = dnn_model.evaluate(test_features, test_labels, verbose=1)"
   ]
  },
  {
   "cell_type": "code",
   "execution_count": 108,
   "id": "013ab45d",
   "metadata": {},
   "outputs": [
    {
     "data": {
      "text/html": [
       "<div>\n",
       "<style scoped>\n",
       "    .dataframe tbody tr th:only-of-type {\n",
       "        vertical-align: middle;\n",
       "    }\n",
       "\n",
       "    .dataframe tbody tr th {\n",
       "        vertical-align: top;\n",
       "    }\n",
       "\n",
       "    .dataframe thead th {\n",
       "        text-align: right;\n",
       "    }\n",
       "</style>\n",
       "<table border=\"1\" class=\"dataframe\">\n",
       "  <thead>\n",
       "    <tr style=\"text-align: right;\">\n",
       "      <th></th>\n",
       "      <th>Mean absolute error [target]</th>\n",
       "    </tr>\n",
       "  </thead>\n",
       "  <tbody>\n",
       "    <tr>\n",
       "      <th>prediction_datetime_model</th>\n",
       "      <td>160.003769</td>\n",
       "    </tr>\n",
       "    <tr>\n",
       "      <th>linear_model</th>\n",
       "      <td>146.869049</td>\n",
       "    </tr>\n",
       "    <tr>\n",
       "      <th>dnn_prediction_datetime_model</th>\n",
       "      <td>160.001343</td>\n",
       "    </tr>\n",
       "    <tr>\n",
       "      <th>dnn_model</th>\n",
       "      <td>120.133514</td>\n",
       "    </tr>\n",
       "  </tbody>\n",
       "</table>\n",
       "</div>"
      ],
      "text/plain": [
       "                               Mean absolute error [target]\n",
       "prediction_datetime_model                        160.003769\n",
       "linear_model                                     146.869049\n",
       "dnn_prediction_datetime_model                    160.001343\n",
       "dnn_model                                        120.133514"
      ]
     },
     "execution_count": 108,
     "metadata": {},
     "output_type": "execute_result"
    }
   ],
   "source": [
    "pd.DataFrame(test_results, index=['Mean absolute error [target]']).T"
   ]
  },
  {
   "cell_type": "code",
   "execution_count": 113,
   "id": "b56f081d",
   "metadata": {},
   "outputs": [
    {
     "data": {
      "image/png": "[encoded data removed]",
      "text/plain": [
       "<Figure size 432x288 with 1 Axes>"
      ]
     },
     "metadata": {
      "needs_background": "light"
     },
     "output_type": "display_data"
    }
   ],
   "source": [
    "test_predictions = dnn_model.predict(test_features).flatten()\n",
    "\n",
    "a = plt.axes(aspect='equal')\n",
    "plt.scatter(test_labels, test_predictions)\n",
    "plt.xlabel('True Values [target]')\n",
    "plt.ylabel('Predictions [target]')\n",
    "lims = [0, 7_000]\n",
    "plt.xlim(lims)\n",
    "plt.ylim(lims)\n",
    "_ = plt.plot(lims, lims)"
   ]
  },
  {
   "cell_type": "code",
   "execution_count": 135,
   "id": "e01382a5",
   "metadata": {},
   "outputs": [
    {
     "data": {
      "text/plain": [
       "23"
      ]
     },
     "execution_count": 135,
     "metadata": {},
     "output_type": "execute_result"
    }
   ],
   "source": [
    "len(test_features.columns.values)"
   ]
  },
  {
   "cell_type": "code",
   "execution_count": 132,
   "id": "d5f902d8",
   "metadata": {},
   "outputs": [
    {
     "data": {
      "text/plain": [
       "array([ 1.8582939e-01, -1.0157134e-01, -1.2930848e-01, -2.0171419e-02,\n",
       "        2.4047683e-01, -4.4691110e-01,  2.9421115e-01,  2.5153279e-01,\n",
       "        1.1984800e-01, -1.1133924e-02,  1.3454746e-01,  2.0303749e-01,\n",
       "        1.7565416e-01,  6.1279631e-01,  3.1572008e-01,  3.6433649e-01,\n",
       "       -1.0351540e-01,  3.0958915e-01,  2.7282262e-01,  3.9511561e-01,\n",
       "        5.3552771e-01,  5.4885936e-01,  3.2644320e-01,  3.6373663e-01,\n",
       "        1.6045141e+01,  1.6122757e+01,  1.6159733e+01,  1.5862016e+01,\n",
       "        1.6487352e+01,  1.6438038e+01,  1.6664373e+01,  1.6585262e+01,\n",
       "        1.5648124e+01,  1.6847864e+01,  1.6461058e+01,  1.7108765e+01,\n",
       "        1.7172663e+01,  1.7608461e+01,  1.7118399e+01,  1.6696369e+01,\n",
       "        1.7765348e+01,  1.7833607e+01,  1.5875935e+01,  1.8796858e+01,\n",
       "        1.7917669e+01,  1.9645224e+01,  1.6954189e+01,  1.6598103e+01,\n",
       "        5.7232127e-02, -2.4070516e-02,  1.0577653e-01,  1.4560817e-01,\n",
       "        2.7461934e-01,  4.5177150e-01,  3.3392653e-02, -2.0227267e-01,\n",
       "       -4.1000533e-01, -1.6825987e-01,  7.0226043e-03,  9.4210371e-02,\n",
       "        1.3748191e-01,  2.2846197e-01, -1.6660191e-01,  2.0514272e-01,\n",
       "        2.2573970e-01,  3.4651923e-01, -1.5563704e-01,  1.4478013e+01,\n",
       "        1.6802509e+01,  1.6210487e+01,  1.6875664e+01,  1.6698389e+01,\n",
       "        1.6625769e+01,  1.6908045e+01,  1.4192306e+01,  1.7040493e+01,\n",
       "        1.7097902e+01,  1.4476120e+01,  1.7611645e+01,  1.7279156e+01,\n",
       "        1.8029421e+01,  1.6682449e+01,  1.8740593e+01,  1.7756794e+01,\n",
       "        1.6719835e+01,  1.9217516e+01,  1.8936325e+01,  1.8961819e+01,\n",
       "        1.6588625e+01, -3.2386708e-01,  4.2805004e-01, -6.5694618e-01,\n",
       "        2.6081371e-01, -6.5624738e-01, -6.0644972e-01, -1.5895630e-01,\n",
       "       -3.5014963e-01, -1.7544046e-02, -1.0104644e+00, -4.1551232e-01],\n",
       "      dtype=float32)"
      ]
     },
     "execution_count": 132,
     "metadata": {},
     "output_type": "execute_result"
    }
   ],
   "source": [
    "dnn_model.predict(test_features[:100]).flatten()"
   ]
  },
  {
   "cell_type": "code",
   "execution_count": 138,
   "id": "9f7a9fea",
   "metadata": {},
   "outputs": [
    {
     "name": "stdout",
     "output_type": "stream",
     "text": [
      "INFO:tensorflow:Assets written to: ram://d49cfd09-aff7-4a26-ac68-3fc80c57c255/assets\n"
     ]
    },
    {
     "name": "stderr",
     "output_type": "stream",
     "text": [
      "2023-12-16 13:49:53.104132: W tensorflow/python/util/util.cc:368] Sets are not currently considered sequences, but this may change in the future, so consider avoiding using them.\n"
     ]
    }
   ],
   "source": [
    "# save the model to disk\n",
    "import pickle\n",
    "dnn_model_filename = '../models/dnn_model.sav'\n",
    "pickle.dump(dnn_model, open(dnn_model_filename, 'wb'))"
   ]
  },
  {
   "cell_type": "code",
   "execution_count": 139,
   "id": "ae7df5c4",
   "metadata": {},
   "outputs": [],
   "source": [
    "#save model using keras\n",
    "dnn_model.save('../models/dnn_model.keras')"
   ]
  },
  {
   "cell_type": "code",
   "execution_count": null,
   "id": "dff843f1",
   "metadata": {},
   "outputs": [],
   "source": []
  }
 ],
 "metadata": {
  "kernelspec": {
   "display_name": "Python 3 (ipykernel)",
   "language": "python",
   "name": "python3"
  },
  "language_info": {
   "codemirror_mode": {
    "name": "ipython",
    "version": 3
   },
   "file_extension": ".py",
   "mimetype": "text/x-python",
   "name": "python",
   "nbconvert_exporter": "python",
   "pygments_lexer": "ipython3",
   "version": "3.8.12"
  }
 },
 "nbformat": 4,
 "nbformat_minor": 5
}
