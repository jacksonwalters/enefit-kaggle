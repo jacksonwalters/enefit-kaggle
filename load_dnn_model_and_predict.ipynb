{
 "cells": [
  {
   "cell_type": "code",
   "execution_count": 1,
   "id": "7093b412",
   "metadata": {},
   "outputs": [
    {
     "name": "stdout",
     "output_type": "stream",
     "text": [
      "client.csv                            gas_prices.csv\r\n",
      "county_id_to_name_map.json            historical_weather.csv\r\n",
      "electricity_prices.csv                public_timeseries_testing_util.py\r\n",
      "\u001b[34menefit\u001b[m\u001b[m                                train.csv\r\n",
      "\u001b[34mexample_test_files\u001b[m\u001b[m                    weather_station_to_county_mapping.csv\r\n",
      "forecast_weather.csv\r\n"
     ]
    }
   ],
   "source": [
    "import os\n",
    "os.chdir(\"/Users/jacksonwalters/Documents/GitHub/enefit-kaggle/predict-energy-behavior-of-prosumers/\")\n",
    "!ls"
   ]
  },
  {
   "cell_type": "code",
   "execution_count": 7,
   "id": "8bcd63e3",
   "metadata": {},
   "outputs": [],
   "source": [
    "import tensorflow as tf"
   ]
  },
  {
   "cell_type": "code",
   "execution_count": 23,
   "id": "39c40563",
   "metadata": {},
   "outputs": [],
   "source": [
    "#bug with normalization axis=-1\n",
    "#reloading via keras is causing errors\n",
    "dnn_model = tf.keras.models.load_model('../models/dnn_model.keras')"
   ]
  },
  {
   "cell_type": "code",
   "execution_count": 26,
   "id": "99d24e70",
   "metadata": {},
   "outputs": [],
   "source": [
    "import pickle\n",
    "dnn_model=pickle.load(open('../models/dnn_model.sav', 'rb'))"
   ]
  },
  {
   "cell_type": "code",
   "execution_count": 27,
   "id": "38575355",
   "metadata": {},
   "outputs": [
    {
     "name": "stdout",
     "output_type": "stream",
     "text": [
      "Model: \"sequential_3\"\n",
      "_________________________________________________________________\n",
      " Layer (type)                Output Shape              Param #   \n",
      "=================================================================\n",
      " normalization_7 (Normalizat  (None, 23)               47        \n",
      " ion)                                                            \n",
      "                                                                 \n",
      " dense_9 (Dense)             (None, 64)                1536      \n",
      "                                                                 \n",
      " dense_10 (Dense)            (None, 64)                4160      \n",
      "                                                                 \n",
      " dense_11 (Dense)            (None, 1)                 65        \n",
      "                                                                 \n",
      "=================================================================\n",
      "Total params: 5,808\n",
      "Trainable params: 5,761\n",
      "Non-trainable params: 47\n",
      "_________________________________________________________________\n"
     ]
    }
   ],
   "source": [
    "dnn_model.summary()"
   ]
  },
  {
   "cell_type": "code",
   "execution_count": 16,
   "id": "de9a2176",
   "metadata": {},
   "outputs": [],
   "source": [
    "from load_data import merged_df"
   ]
  },
  {
   "cell_type": "code",
   "execution_count": 17,
   "id": "c692eb50",
   "metadata": {},
   "outputs": [
    {
     "name": "stdout",
     "output_type": "stream",
     "text": [
      "loading train data...\n",
      "loading gas_prices...\n",
      "loading electricity_prices...\n",
      "loading forecast_weather...\n",
      "merging train and gas_prices...\n",
      "merging electricity_prices...\n",
      "merging forecast_weather...\n"
     ]
    }
   ],
   "source": [
    "df = merged_df()"
   ]
  },
  {
   "cell_type": "code",
   "execution_count": 20,
   "id": "6e40593a",
   "metadata": {},
   "outputs": [],
   "source": [
    "predict_df = df[:100_000].copy().drop(columns=['target'])"
   ]
  },
  {
   "cell_type": "code",
   "execution_count": 28,
   "id": "275536bc",
   "metadata": {},
   "outputs": [
    {
     "name": "stderr",
     "output_type": "stream",
     "text": [
      "2023-12-16 16:17:07.666837: I tensorflow/core/grappler/optimizers/custom_graph_optimizer_registry.cc:113] Plugin optimizer for device_type GPU is enabled.\n"
     ]
    },
    {
     "data": {
      "text/plain": [
       "array([[-0.04962622],\n",
       "       [ 0.7294787 ],\n",
       "       [ 0.2737217 ],\n",
       "       [ 0.20935906],\n",
       "       [ 0.06183322],\n",
       "       [ 0.02326114],\n",
       "       [ 1.435597  ],\n",
       "       [ 1.433182  ],\n",
       "       [ 1.2723724 ],\n",
       "       [ 1.0693423 ],\n",
       "       [ 0.760861  ],\n",
       "       [ 0.63752985],\n",
       "       [ 0.5170679 ],\n",
       "       [ 0.31081223],\n",
       "       [-0.09408133],\n",
       "       [ 0.3767141 ],\n",
       "       [ 0.26840913],\n",
       "       [ 0.21418755],\n",
       "       [ 0.2074079 ],\n",
       "       [ 0.1765417 ],\n",
       "       [ 1.4425195 ],\n",
       "       [ 1.568376  ],\n",
       "       [ 1.4959042 ],\n",
       "       [ 1.1679776 ],\n",
       "       [ 0.94875693],\n",
       "       [ 0.739027  ],\n",
       "       [ 0.39550406],\n",
       "       [ 0.18869545],\n",
       "       [ 0.00608183],\n",
       "       [ 0.89547145],\n",
       "       [ 0.6849333 ],\n",
       "       [ 0.29428422],\n",
       "       [ 0.28159654],\n",
       "       [ 0.58559704],\n",
       "       [ 1.4537542 ],\n",
       "       [ 1.7183985 ],\n",
       "       [ 1.6088793 ],\n",
       "       [ 0.97805715],\n",
       "       [ 1.2717159 ],\n",
       "       [ 0.7136493 ],\n",
       "       [ 0.19695522],\n",
       "       [ 0.14518179],\n",
       "       [ 0.01138397],\n",
       "       [ 0.34549528],\n",
       "       [ 1.3249886 ],\n",
       "       [ 0.79519606],\n",
       "       [ 1.4175085 ],\n",
       "       [ 1.7222918 ],\n",
       "       [ 1.7988746 ],\n",
       "       [ 1.6866598 ],\n",
       "       [ 1.3791755 ],\n",
       "       [ 1.3947049 ],\n",
       "       [ 1.1712444 ],\n",
       "       [ 0.4974975 ],\n",
       "       [ 0.2593305 ],\n",
       "       [ 0.31987733],\n",
       "       [ 0.05724664],\n",
       "       [ 0.16751601],\n",
       "       [ 1.371362  ],\n",
       "       [ 0.4113242 ],\n",
       "       [ 1.6649733 ],\n",
       "       [ 1.8392632 ],\n",
       "       [ 1.8966943 ],\n",
       "       [ 1.7377952 ],\n",
       "       [ 1.3147237 ],\n",
       "       [ 1.4416357 ],\n",
       "       [ 1.3736703 ],\n",
       "       [ 0.36170995],\n",
       "       [ 0.23410757],\n",
       "       [ 0.4203409 ],\n",
       "       [ 0.11500849],\n",
       "       [ 0.1446506 ],\n",
       "       [ 0.48139614],\n",
       "       [ 0.67681974],\n",
       "       [ 1.7453564 ],\n",
       "       [ 1.8122314 ],\n",
       "       [ 1.8128064 ],\n",
       "       [ 1.7565007 ],\n",
       "       [ 1.6977899 ],\n",
       "       [ 1.4401162 ],\n",
       "       [ 1.1281368 ],\n",
       "       [ 0.6205447 ],\n",
       "       [ 0.47291106],\n",
       "       [ 0.32465225],\n",
       "       [ 0.19631805],\n",
       "       [ 0.23004033],\n",
       "       [ 0.52908206],\n",
       "       [ 0.6801579 ],\n",
       "       [ 0.6798357 ],\n",
       "       [ 1.1587346 ],\n",
       "       [ 1.5373852 ],\n",
       "       [ 1.5384113 ],\n",
       "       [ 1.562911  ],\n",
       "       [ 1.5166292 ],\n",
       "       [ 0.86269134],\n",
       "       [ 0.35691935],\n",
       "       [ 0.05508156],\n",
       "       [ 0.42423004],\n",
       "       [ 0.3518505 ],\n",
       "       [ 0.5076452 ]], dtype=float32)"
      ]
     },
     "execution_count": 28,
     "metadata": {},
     "output_type": "execute_result"
    }
   ],
   "source": [
    "dnn_model.predict(predict_df[:100])"
   ]
  },
  {
   "cell_type": "code",
   "execution_count": null,
   "id": "7e82eb67",
   "metadata": {},
   "outputs": [],
   "source": []
  }
 ],
 "metadata": {
  "kernelspec": {
   "display_name": "Python 3 (ipykernel)",
   "language": "python",
   "name": "python3"
  },
  "language_info": {
   "codemirror_mode": {
    "name": "ipython",
    "version": 3
   },
   "file_extension": ".py",
   "mimetype": "text/x-python",
   "name": "python",
   "nbconvert_exporter": "python",
   "pygments_lexer": "ipython3",
   "version": "3.8.12"
  }
 },
 "nbformat": 4,
 "nbformat_minor": 5
}
